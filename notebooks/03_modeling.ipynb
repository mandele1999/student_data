{
 "cells": [
  {
   "cell_type": "markdown",
   "metadata": {},
   "source": [
    "# 📘 Modeling: Student Performance and Risk Prediction\n",
    "\n",
    "This notebook covers the modeling phase of the student data performance project. It includes predictive modeling for student grades and classification of at-risk students, along with model evaluation and selection.\n",
    "\n",
    "In this notebook, we:\n",
    "- Develop a regression model to predict student GPA\n",
    "- Derive a binary risk label (`risk_flag`) based on GPA\n",
    "- Train a classificication model to identify at-risk students\n",
    "- Evaluate and compare model performance\n",
    "- Tuning top models\n",
    "- Save models for deployment"
   ]
  },
  {
   "cell_type": "code",
   "execution_count": null,
   "metadata": {},
   "outputs": [],
   "source": [
    "# 1. Load packages\n",
    "import pandas as pd\n",
    "import numpy as np\n",
    "from sklearn.model_selection import train_test_split, RandomizedSearchCV\n",
    "from sklearn.linear_model import LinearRegression, LogisticRegression\n",
    "from sklearn.ensemble import RandomForestRegressor, RandomForestClassifier\n",
    "from xgboost import XGBRegressor, XGBClassifier\n",
    "from sklearn.metrics import (r2_score, mean_absolute_error, mean_squared_error,\n",
    "                             accuracy_score, precision_score, recall_score, f1_score, confusion_matrix, roc_auc_score)\n",
    "from sklearn.pipeline import Pipeline\n",
    "import joblib\n",
    "import matplotlib.pyplot as plt\n",
    "import seaborn as sns\n",
    "\n",
    "import warnings\n",
    "warnings.filterwarnings(\"ignore\")"
   ]
  },
  {
   "cell_type": "markdown",
   "metadata": {},
   "source": [
    "## Data Load and Split"
   ]
  },
  {
   "cell_type": "code",
   "execution_count": 27,
   "metadata": {},
   "outputs": [],
   "source": [
    "# 1. Load Processed Data & Pipeline\n",
    "file_path = \"../data/feature_engineered_student_data.csv\"\n",
    "df = pd.read_csv(file_path)\n",
    "pipeline = joblib.load('../models/student_data_preprocessing_pipeline.pkl')"
   ]
  },
  {
   "cell_type": "code",
   "execution_count": 28,
   "metadata": {},
   "outputs": [],
   "source": [
    "# 3. Prepare Targets and Features\n",
    "X = df.drop(columns=['risk_flag', 'gpa', 'gradeclass'])\n",
    "\n",
    "# Separate targets for regression and classification\n",
    "y_reg = df['gpa']\n",
    "y_cls = df['risk_flag']"
   ]
  },
  {
   "cell_type": "code",
   "execution_count": 31,
   "metadata": {},
   "outputs": [],
   "source": [
    "# # # 4. Process Features (Apply the pipeline to the features)\n",
    "# X_transformed = pipeline.transform(X)\n",
    "\n",
    "# # # Get proper feature names from pipeline\n",
    "# feature_names = pipeline.named_steps['preprocessor'].get_feature_names_out()\n",
    "\n",
    "# # Convert to DataFrame for better readability and model compatibility\n",
    "# X_transformed_df = pd.DataFrame(X_transformed, columns=feature_names)"
   ]
  },
  {
   "cell_type": "code",
   "execution_count": 32,
   "metadata": {},
   "outputs": [],
   "source": [
    "# Split data for GPA regression \n",
    "X_train_reg, X_test_reg, y_train_reg, y_test_reg = train_test_split(X, y_reg, test_size=0.2, random_state=42)\n",
    "# Split data for At-Risk classification\n",
    "X_train_cls, X_test_cls, y_train_cls, y_test_cls = train_test_split(X, y_cls, test_size=0.2, random_state=42)"
   ]
  },
  {
   "cell_type": "markdown",
   "metadata": {},
   "source": [
    "Train Models"
   ]
  },
  {
   "cell_type": "code",
   "execution_count": 34,
   "metadata": {},
   "outputs": [
    {
     "name": "stdout",
     "output_type": "stream",
     "text": [
      "LinearRegression R2: 0.9533, MAE: 0.1553, RMSE: 0.1966\n",
      "RandomForestRegressor R2: 0.9275, MAE: 0.1896, RMSE: 0.2448\n",
      "XGBRegressor R2: 0.9315, MAE: 0.1874, RMSE: 0.2380\n"
     ]
    }
   ],
   "source": [
    "# Initialize Models\n",
    "reg_models = {\n",
    "    'LinearRegression': LinearRegression(),\n",
    "    'RandomForestRegressor': RandomForestRegressor(random_state=42),\n",
    "    'XGBRegressor': XGBRegressor(random_state=42)\n",
    "}\n",
    "for name, model in reg_models.items():\n",
    "    model.fit(X_train_reg, y_train_reg)\n",
    "    y_pred = model.predict(X_test_reg)\n",
    "    print(f\"{name} R2: {r2_score(y_test_reg, y_pred):.4f}, \"\n",
    "          f\"MAE: {mean_absolute_error(y_test_reg, y_pred):.4f}, \"\n",
    "          f\"RMSE: {np.sqrt(mean_squared_error(y_test_reg, y_pred)):.4f}\")"
   ]
  },
  {
   "cell_type": "markdown",
   "metadata": {},
   "source": [
    "Classification using Predicted GPA"
   ]
  },
  {
   "cell_type": "code",
   "execution_count": 35,
   "metadata": {},
   "outputs": [],
   "source": [
    "# Use best model to predict GPA\n",
    "best_reg_model = reg_models['LinearRegression']  # or the best one\n",
    "y_pred_gpa = best_reg_model.predict(X)\n",
    "\n",
    "# Convert predicted GPA to risk_flag\n",
    "y_pred_cls = (y_pred_gpa < 2.0).astype(int)"
   ]
  },
  {
   "cell_type": "code",
   "execution_count": 38,
   "metadata": {},
   "outputs": [
    {
     "name": "stdout",
     "output_type": "stream",
     "text": [
      "              precision    recall  f1-score   support\n",
      "\n",
      "           0       0.94      0.95      0.94      1118\n",
      "           1       0.95      0.94      0.95      1274\n",
      "\n",
      "    accuracy                           0.95      2392\n",
      "   macro avg       0.95      0.95      0.95      2392\n",
      "weighted avg       0.95      0.95      0.95      2392\n",
      "\n",
      "[[1060   58]\n",
      " [  72 1202]]\n"
     ]
    },
    {
     "data": {
      "image/png": "[encoded data removed]",
      "text/plain": [
       "<Figure size 432x288 with 2 Axes>"
      ]
     },
     "metadata": {
      "needs_background": "light"
     },
     "output_type": "display_data"
    }
   ],
   "source": [
    "from sklearn.metrics import classification_report, confusion_matrix\n",
    "\n",
    "print(classification_report(y_cls, y_pred_cls))\n",
    "print(confusion_matrix(y_cls, y_pred_cls))\n",
    "sns.heatmap(confusion_matrix(y_cls, y_pred_cls), annot=True, fmt='d', cmap='Blues');"
   ]
  },
  {
   "cell_type": "markdown",
   "metadata": {},
   "source": [
    "Save Best Model"
   ]
  },
  {
   "cell_type": "code",
   "execution_count": 40,
   "metadata": {},
   "outputs": [
    {
     "name": "stdout",
     "output_type": "stream",
     "text": [
      "✅ Best Regression Model Saved!\n"
     ]
    }
   ],
   "source": [
    "# Save best regression model\n",
    "joblib.dump(best_reg_model, \"../models/lr_student_grade_model.pkl\")\n",
    "print(\"✅ Best Regression Model Saved!\")"
   ]
  }
 ],
 "metadata": {
  "kernelspec": {
   "display_name": "learn-env",
   "language": "python",
   "name": "python3"
  },
  "language_info": {
   "codemirror_mode": {
    "name": "ipython",
    "version": 3
   },
   "file_extension": ".py",
   "mimetype": "text/x-python",
   "name": "python",
   "nbconvert_exporter": "python",
   "pygments_lexer": "ipython3",
   "version": "3.8.5"
  }
 },
 "nbformat": 4,
 "nbformat_minor": 2
}
