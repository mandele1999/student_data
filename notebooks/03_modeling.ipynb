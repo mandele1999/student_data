{
 "cells": [
  {
   "cell_type": "markdown",
   "metadata": {},
   "source": [
    "# 📘 Modeling: Student Performance and Risk Prediction\n",
    "\n",
    "This notebook covers the modeling phase of the student data performance project. It includes predictive modeling for student grades and classification of at-risk students, along with model evaluation and selection.\n",
    "\n",
    "In this notebook, we:\n",
    "- Develop a regression model to predict student GPA\n",
    "- Derive a binary risk label (`risk_flag`) based on GPA\n",
    "- Train a classificication model to identify at-risk students\n",
    "- Evaluate and compare model performance\n",
    "- Tuning top models\n",
    "- Save models for deployment"
   ]
  },
  {
   "cell_type": "code",
   "execution_count": 22,
   "metadata": {},
   "outputs": [],
   "source": [
    "# Load packages\n",
    "import pandas as pd\n",
    "import numpy as np\n",
    "from sklearn.model_selection import train_test_split\n",
    "from sklearn.linear_model import LinearRegression, LogisticRegression\n",
    "from sklearn.ensemble import RandomForestRegressor, RandomForestClassifier\n",
    "from xgboost import XGBRegressor, XGBClassifier\n",
    "from sklearn.metrics import (r2_score, mean_absolute_error, mean_squared_error,\n",
    "                             accuracy_score, precision_score, recall_score, f1_score, confusion_matrix, roc_auc_score)\n",
    "import joblib\n",
    "import matplotlib.pyplot as plt\n",
    "import seaborn as sns\n",
    "\n",
    "import warnings\n",
    "warnings.filterwarnings(\"ignore\")"
   ]
  },
  {
   "cell_type": "markdown",
   "metadata": {},
   "source": [
    "## df Load and Split"
   ]
  },
  {
   "cell_type": "code",
   "execution_count": null,
   "metadata": {},
   "outputs": [
    {
     "data": {
      "application/vnd.microsoft.datawrangler.viewer.v0+json": {
       "columns": [
        {
         "name": "index",
         "rawType": "int64",
         "type": "integer"
        },
        {
         "name": "ethnicity_1",
         "rawType": "float64",
         "type": "float"
        },
        {
         "name": "ethnicity_2",
         "rawType": "float64",
         "type": "float"
        },
        {
         "name": "ethnicity_3",
         "rawType": "float64",
         "type": "float"
        },
        {
         "name": "studytimeweekly",
         "rawType": "float64",
         "type": "float"
        },
        {
         "name": "absences",
         "rawType": "float64",
         "type": "float"
        },
        {
         "name": "age",
         "rawType": "float64",
         "type": "float"
        },
        {
         "name": "gender",
         "rawType": "float64",
         "type": "float"
        },
        {
         "name": "tutoring",
         "rawType": "float64",
         "type": "float"
        },
        {
         "name": "extracurricular",
         "rawType": "float64",
         "type": "float"
        },
        {
         "name": "sports",
         "rawType": "float64",
         "type": "float"
        },
        {
         "name": "music",
         "rawType": "float64",
         "type": "float"
        },
        {
         "name": "volunteering",
         "rawType": "float64",
         "type": "float"
        },
        {
         "name": "parentalsupport",
         "rawType": "float64",
         "type": "float"
        },
        {
         "name": "parentaleducation",
         "rawType": "float64",
         "type": "float"
        },
        {
         "name": "gpa",
         "rawType": "float64",
         "type": "float"
        },
        {
         "name": "gradeclass",
         "rawType": "float64",
         "type": "float"
        },
        {
         "name": "risk_flag",
         "rawType": "int64",
         "type": "integer"
        }
       ],
       "conversionMethod": "pd.DataFrame",
       "ref": "ce441695-4f49-4b8c-a392-a91464367046",
       "rows": [
        [
         "0",
         "0.0",
         "0.0",
         "0.0",
         "1.7803355189521388",
         "-0.8908223715622926",
         "0.4729190115431414",
         "1.0",
         "1.0",
         "0.0",
         "0.0",
         "1.0",
         "0.0",
         "2.0",
         "2.0",
         "2.929195591667681",
         "2.0",
         "0"
        ],
        [
         "1",
         "0.0",
         "0.0",
         "0.0",
         "0.9973762482121092",
         "-1.7176935833500315",
         "1.362944405415047",
         "0.0",
         "0.0",
         "0.0",
         "0.0",
         "0.0",
         "0.0",
         "1.0",
         "1.0",
         "3.042914833436377",
         "1.0",
         "0"
        ],
        [
         "2",
         "0.0",
         "1.0",
         "0.0",
         "-0.9840451409833824",
         "1.3535423461472853",
         "-1.30713177620067",
         "0.0",
         "0.0",
         "0.0",
         "0.0",
         "0.0",
         "0.0",
         "2.0",
         "3.0",
         "0.1126022544661815",
         "4.0",
         "1"
        ],
        [
         "3",
         "0.0",
         "0.0",
         "0.0",
         "0.0454451650511162",
         "-0.0639511597745533",
         "0.4729190115431414",
         "1.0",
         "0.0",
         "1.0",
         "0.0",
         "0.0",
         "0.0",
         "3.0",
         "3.0",
         "2.0542181397029484",
         "3.0",
         "0"
        ],
        [
         "4",
         "0.0",
         "0.0",
         "0.0",
         "-0.902311452089904",
         "0.2904222167059063",
         "0.4729190115431414",
         "1.0",
         "1.0",
         "0.0",
         "0.0",
         "0.0",
         "0.0",
         "3.0",
         "2.0",
         "1.2880611817953875",
         "4.0",
         "1"
        ]
       ],
       "shape": {
        "columns": 17,
        "rows": 5
       }
      },
      "text/html": [
       "<div>\n",
       "<style scoped>\n",
       "    .dataframe tbody tr th:only-of-type {\n",
       "        vertical-align: middle;\n",
       "    }\n",
       "\n",
       "    .dataframe tbody tr th {\n",
       "        vertical-align: top;\n",
       "    }\n",
       "\n",
       "    .dataframe thead th {\n",
       "        text-align: right;\n",
       "    }\n",
       "</style>\n",
       "<table border=\"1\" class=\"dataframe\">\n",
       "  <thead>\n",
       "    <tr style=\"text-align: right;\">\n",
       "      <th></th>\n",
       "      <th>ethnicity_1</th>\n",
       "      <th>ethnicity_2</th>\n",
       "      <th>ethnicity_3</th>\n",
       "      <th>studytimeweekly</th>\n",
       "      <th>absences</th>\n",
       "      <th>age</th>\n",
       "      <th>gender</th>\n",
       "      <th>tutoring</th>\n",
       "      <th>extracurricular</th>\n",
       "      <th>sports</th>\n",
       "      <th>music</th>\n",
       "      <th>volunteering</th>\n",
       "      <th>parentalsupport</th>\n",
       "      <th>parentaleducation</th>\n",
       "      <th>gpa</th>\n",
       "      <th>gradeclass</th>\n",
       "      <th>risk_flag</th>\n",
       "    </tr>\n",
       "  </thead>\n",
       "  <tbody>\n",
       "    <tr>\n",
       "      <th>0</th>\n",
       "      <td>0.0</td>\n",
       "      <td>0.0</td>\n",
       "      <td>0.0</td>\n",
       "      <td>1.780336</td>\n",
       "      <td>-0.890822</td>\n",
       "      <td>0.472919</td>\n",
       "      <td>1.0</td>\n",
       "      <td>1.0</td>\n",
       "      <td>0.0</td>\n",
       "      <td>0.0</td>\n",
       "      <td>1.0</td>\n",
       "      <td>0.0</td>\n",
       "      <td>2.0</td>\n",
       "      <td>2.0</td>\n",
       "      <td>2.929196</td>\n",
       "      <td>2.0</td>\n",
       "      <td>0</td>\n",
       "    </tr>\n",
       "    <tr>\n",
       "      <th>1</th>\n",
       "      <td>0.0</td>\n",
       "      <td>0.0</td>\n",
       "      <td>0.0</td>\n",
       "      <td>0.997376</td>\n",
       "      <td>-1.717694</td>\n",
       "      <td>1.362944</td>\n",
       "      <td>0.0</td>\n",
       "      <td>0.0</td>\n",
       "      <td>0.0</td>\n",
       "      <td>0.0</td>\n",
       "      <td>0.0</td>\n",
       "      <td>0.0</td>\n",
       "      <td>1.0</td>\n",
       "      <td>1.0</td>\n",
       "      <td>3.042915</td>\n",
       "      <td>1.0</td>\n",
       "      <td>0</td>\n",
       "    </tr>\n",
       "    <tr>\n",
       "      <th>2</th>\n",
       "      <td>0.0</td>\n",
       "      <td>1.0</td>\n",
       "      <td>0.0</td>\n",
       "      <td>-0.984045</td>\n",
       "      <td>1.353542</td>\n",
       "      <td>-1.307132</td>\n",
       "      <td>0.0</td>\n",
       "      <td>0.0</td>\n",
       "      <td>0.0</td>\n",
       "      <td>0.0</td>\n",
       "      <td>0.0</td>\n",
       "      <td>0.0</td>\n",
       "      <td>2.0</td>\n",
       "      <td>3.0</td>\n",
       "      <td>0.112602</td>\n",
       "      <td>4.0</td>\n",
       "      <td>1</td>\n",
       "    </tr>\n",
       "    <tr>\n",
       "      <th>3</th>\n",
       "      <td>0.0</td>\n",
       "      <td>0.0</td>\n",
       "      <td>0.0</td>\n",
       "      <td>0.045445</td>\n",
       "      <td>-0.063951</td>\n",
       "      <td>0.472919</td>\n",
       "      <td>1.0</td>\n",
       "      <td>0.0</td>\n",
       "      <td>1.0</td>\n",
       "      <td>0.0</td>\n",
       "      <td>0.0</td>\n",
       "      <td>0.0</td>\n",
       "      <td>3.0</td>\n",
       "      <td>3.0</td>\n",
       "      <td>2.054218</td>\n",
       "      <td>3.0</td>\n",
       "      <td>0</td>\n",
       "    </tr>\n",
       "    <tr>\n",
       "      <th>4</th>\n",
       "      <td>0.0</td>\n",
       "      <td>0.0</td>\n",
       "      <td>0.0</td>\n",
       "      <td>-0.902311</td>\n",
       "      <td>0.290422</td>\n",
       "      <td>0.472919</td>\n",
       "      <td>1.0</td>\n",
       "      <td>1.0</td>\n",
       "      <td>0.0</td>\n",
       "      <td>0.0</td>\n",
       "      <td>0.0</td>\n",
       "      <td>0.0</td>\n",
       "      <td>3.0</td>\n",
       "      <td>2.0</td>\n",
       "      <td>1.288061</td>\n",
       "      <td>4.0</td>\n",
       "      <td>1</td>\n",
       "    </tr>\n",
       "  </tbody>\n",
       "</table>\n",
       "</div>"
      ],
      "text/plain": [
       "   ethnicity_1  ethnicity_2  ethnicity_3  studytimeweekly  absences       age  \\\n",
       "0          0.0          0.0          0.0         1.780336 -0.890822  0.472919   \n",
       "1          0.0          0.0          0.0         0.997376 -1.717694  1.362944   \n",
       "2          0.0          1.0          0.0        -0.984045  1.353542 -1.307132   \n",
       "3          0.0          0.0          0.0         0.045445 -0.063951  0.472919   \n",
       "4          0.0          0.0          0.0        -0.902311  0.290422  0.472919   \n",
       "\n",
       "   gender  tutoring  extracurricular  sports  music  volunteering  \\\n",
       "0     1.0       1.0              0.0     0.0    1.0           0.0   \n",
       "1     0.0       0.0              0.0     0.0    0.0           0.0   \n",
       "2     0.0       0.0              0.0     0.0    0.0           0.0   \n",
       "3     1.0       0.0              1.0     0.0    0.0           0.0   \n",
       "4     1.0       1.0              0.0     0.0    0.0           0.0   \n",
       "\n",
       "   parentalsupport  parentaleducation       gpa  gradeclass  risk_flag  \n",
       "0              2.0                2.0  2.929196         2.0          0  \n",
       "1              1.0                1.0  3.042915         1.0          0  \n",
       "2              2.0                3.0  0.112602         4.0          1  \n",
       "3              3.0                3.0  2.054218         3.0          0  \n",
       "4              3.0                2.0  1.288061         4.0          1  "
      ]
     },
     "execution_count": 18,
     "metadata": {},
     "output_type": "execute_result"
    }
   ],
   "source": [
    "# Load Transformed Data\n",
    "file_path = \"../data/feature_engineered_student_data.csv\"\n",
    "df = pd.read_csv(file_path)\n",
    "df.head()"
   ]
  },
  {
   "cell_type": "code",
   "execution_count": 19,
   "metadata": {},
   "outputs": [
    {
     "name": "stdout",
     "output_type": "stream",
     "text": [
      "Index(['ethnicity_1', 'ethnicity_2', 'ethnicity_3', 'studytimeweekly',\n",
      "       'absences', 'age', 'gender', 'tutoring', 'extracurricular', 'sports',\n",
      "       'music', 'volunteering', 'parentalsupport', 'parentaleducation', 'gpa',\n",
      "       'gradeclass', 'risk_flag'],\n",
      "      dtype='object')\n",
      "17 columns\n"
     ]
    }
   ],
   "source": [
    "print(df.columns)\n",
    "print(len(df.columns), \"columns\")"
   ]
  },
  {
   "cell_type": "code",
   "execution_count": null,
   "metadata": {},
   "outputs": [
    {
     "name": "stdout",
     "output_type": "stream",
     "text": [
      "\n",
      "--- Regression Model Evaluation ---\n"
     ]
    },
    {
     "data": {
      "application/vnd.microsoft.datawrangler.viewer.v0+json": {
       "columns": [
        {
         "name": "index",
         "rawType": "int64",
         "type": "integer"
        },
        {
         "name": "Model",
         "rawType": "object",
         "type": "string"
        },
        {
         "name": "R2 Score",
         "rawType": "float64",
         "type": "float"
        },
        {
         "name": "MAE",
         "rawType": "float64",
         "type": "float"
        },
        {
         "name": "RMSE",
         "rawType": "float64",
         "type": "float"
        }
       ],
       "conversionMethod": "pd.DataFrame",
       "ref": "337d65af-32cd-4c82-8f89-08de0b76b948",
       "rows": [
        [
         "0",
         "LinearRegression",
         "0.9568428111892713",
         "0.15061076347816732",
         "0.18891290839300376"
        ],
        [
         "2",
         "XGBRegressor",
         "0.9431918633634262",
         "0.16329453253345944",
         "0.21674063054059828"
        ],
        [
         "1",
         "RandomForestRegressor",
         "0.9361443827621587",
         "0.16987643438846878",
         "0.2297918459890993"
        ]
       ],
       "shape": {
        "columns": 4,
        "rows": 3
       }
      },
      "text/html": [
       "<div>\n",
       "<style scoped>\n",
       "    .dataframe tbody tr th:only-of-type {\n",
       "        vertical-align: middle;\n",
       "    }\n",
       "\n",
       "    .dataframe tbody tr th {\n",
       "        vertical-align: top;\n",
       "    }\n",
       "\n",
       "    .dataframe thead th {\n",
       "        text-align: right;\n",
       "    }\n",
       "</style>\n",
       "<table border=\"1\" class=\"dataframe\">\n",
       "  <thead>\n",
       "    <tr style=\"text-align: right;\">\n",
       "      <th></th>\n",
       "      <th>Model</th>\n",
       "      <th>R2 Score</th>\n",
       "      <th>MAE</th>\n",
       "      <th>RMSE</th>\n",
       "    </tr>\n",
       "  </thead>\n",
       "  <tbody>\n",
       "    <tr>\n",
       "      <th>0</th>\n",
       "      <td>LinearRegression</td>\n",
       "      <td>0.956843</td>\n",
       "      <td>0.150611</td>\n",
       "      <td>0.188913</td>\n",
       "    </tr>\n",
       "    <tr>\n",
       "      <th>2</th>\n",
       "      <td>XGBRegressor</td>\n",
       "      <td>0.943192</td>\n",
       "      <td>0.163295</td>\n",
       "      <td>0.216741</td>\n",
       "    </tr>\n",
       "    <tr>\n",
       "      <th>1</th>\n",
       "      <td>RandomForestRegressor</td>\n",
       "      <td>0.936144</td>\n",
       "      <td>0.169876</td>\n",
       "      <td>0.229792</td>\n",
       "    </tr>\n",
       "  </tbody>\n",
       "</table>\n",
       "</div>"
      ],
      "text/plain": [
       "                   Model  R2 Score       MAE      RMSE\n",
       "0       LinearRegression  0.956843  0.150611  0.188913\n",
       "2           XGBRegressor  0.943192  0.163295  0.216741\n",
       "1  RandomForestRegressor  0.936144  0.169876  0.229792"
      ]
     },
     "metadata": {},
     "output_type": "display_data"
    },
    {
     "name": "stdout",
     "output_type": "stream",
     "text": [
      "\n",
      "--- Classification Model Evaluation ---\n"
     ]
    },
    {
     "data": {
      "application/vnd.microsoft.datawrangler.viewer.v0+json": {
       "columns": [
        {
         "name": "index",
         "rawType": "int64",
         "type": "integer"
        },
        {
         "name": "Model",
         "rawType": "object",
         "type": "string"
        },
        {
         "name": "Accuracy",
         "rawType": "float64",
         "type": "float"
        },
        {
         "name": "Precision",
         "rawType": "float64",
         "type": "float"
        },
        {
         "name": "Recall",
         "rawType": "float64",
         "type": "float"
        },
        {
         "name": "F1 Score",
         "rawType": "float64",
         "type": "float"
        },
        {
         "name": "ROC AUC",
         "rawType": "float64",
         "type": "float"
        }
       ],
       "conversionMethod": "pd.DataFrame",
       "ref": "5359ec31-2be2-49ca-86c8-4ec37002724c",
       "rows": [
        [
         "2",
         "XGBClassifier",
         "0.9853862212943633",
         "0.9879032258064516",
         "0.9839357429718876",
         "0.9859154929577465",
         "0.9854461323555089"
        ],
        [
         "1",
         "RandomForestClassifier",
         "0.9832985386221295",
         "0.9878542510121457",
         "0.9799196787148594",
         "0.9838709677419354",
         "0.9834381002269948"
        ],
        [
         "0",
         "LogisticRegression",
         "0.9561586638830898",
         "0.9488188976377953",
         "0.9678714859437751",
         "0.9582504970178926",
         "0.9556748734066701"
        ]
       ],
       "shape": {
        "columns": 6,
        "rows": 3
       }
      },
      "text/html": [
       "<div>\n",
       "<style scoped>\n",
       "    .dataframe tbody tr th:only-of-type {\n",
       "        vertical-align: middle;\n",
       "    }\n",
       "\n",
       "    .dataframe tbody tr th {\n",
       "        vertical-align: top;\n",
       "    }\n",
       "\n",
       "    .dataframe thead th {\n",
       "        text-align: right;\n",
       "    }\n",
       "</style>\n",
       "<table border=\"1\" class=\"dataframe\">\n",
       "  <thead>\n",
       "    <tr style=\"text-align: right;\">\n",
       "      <th></th>\n",
       "      <th>Model</th>\n",
       "      <th>Accuracy</th>\n",
       "      <th>Precision</th>\n",
       "      <th>Recall</th>\n",
       "      <th>F1 Score</th>\n",
       "      <th>ROC AUC</th>\n",
       "    </tr>\n",
       "  </thead>\n",
       "  <tbody>\n",
       "    <tr>\n",
       "      <th>2</th>\n",
       "      <td>XGBClassifier</td>\n",
       "      <td>0.985386</td>\n",
       "      <td>0.987903</td>\n",
       "      <td>0.983936</td>\n",
       "      <td>0.985915</td>\n",
       "      <td>0.985446</td>\n",
       "    </tr>\n",
       "    <tr>\n",
       "      <th>1</th>\n",
       "      <td>RandomForestClassifier</td>\n",
       "      <td>0.983299</td>\n",
       "      <td>0.987854</td>\n",
       "      <td>0.979920</td>\n",
       "      <td>0.983871</td>\n",
       "      <td>0.983438</td>\n",
       "    </tr>\n",
       "    <tr>\n",
       "      <th>0</th>\n",
       "      <td>LogisticRegression</td>\n",
       "      <td>0.956159</td>\n",
       "      <td>0.948819</td>\n",
       "      <td>0.967871</td>\n",
       "      <td>0.958250</td>\n",
       "      <td>0.955675</td>\n",
       "    </tr>\n",
       "  </tbody>\n",
       "</table>\n",
       "</div>"
      ],
      "text/plain": [
       "                    Model  Accuracy  Precision    Recall  F1 Score   ROC AUC\n",
       "2           XGBClassifier  0.985386   0.987903  0.983936  0.985915  0.985446\n",
       "1  RandomForestClassifier  0.983299   0.987854  0.979920  0.983871  0.983438\n",
       "0      LogisticRegression  0.956159   0.948819  0.967871  0.958250  0.955675"
      ]
     },
     "metadata": {},
     "output_type": "display_data"
    }
   ],
   "source": [
    "# Define Targets\n",
    "regression_target = 'gpa'\n",
    "classification_target = 'risk_flag'\n",
    "\n",
    "# Feature-Target Split\n",
    "X = df.drop([regression_target, classification_target], axis=1)\n",
    "y_reg = df[regression_target]\n",
    "y_cls = df[classification_target]\n",
    "\n",
    "# Train-Test Split\n",
    "X_train_reg, X_test_reg, y_train_reg, y_test_reg = train_test_split(X, y_reg, test_size=0.2, random_state=42)\n",
    "X_train_cls, X_test_cls, y_train_cls, y_test_cls = train_test_split(X, y_cls, test_size=0.2, random_state=42)\n",
    "\n",
    "# Initialize Models\n",
    "regression_models = {\n",
    "    'LinearRegression': LinearRegression(),\n",
    "    'RandomForestRegressor': RandomForestRegressor(random_state=42),\n",
    "    'XGBRegressor': XGBRegressor(random_state=42)\n",
    "}\n",
    "\n",
    "classification_models = {\n",
    "    'LogisticRegression': LogisticRegression(max_iter=1000),\n",
    "    'RandomForestClassifier': RandomForestClassifier(random_state=42),\n",
    "    'XGBClassifier': XGBClassifier(random_state=42)\n",
    "}\n",
    "\n",
    "# Train & Evaluate Regression Models\n",
    "regression_results = []\n",
    "\n",
    "for name, model in regression_models.items():\n",
    "    model.fit(X_train_reg, y_train_reg)\n",
    "    preds = model.predict(X_test_reg)\n",
    "    regression_results.append({\n",
    "        'Model': name,\n",
    "        'R2 Score': r2_score(y_test_reg, preds),\n",
    "        'MAE': mean_absolute_error(y_test_reg, preds),\n",
    "        'RMSE': mean_squared_error(y_test_reg, preds, squared=False)\n",
    "    })\n",
    "\n",
    "regression_df = pd.DataFrame(regression_results).sort_values(by='R2 Score', ascending=False)\n",
    "print(\"\\n--- Regression Model Evaluation ---\")\n",
    "display(regression_df)\n",
    "\n",
    "# Train & Evaluate Classification Models\n",
    "classification_results = []\n",
    "\n",
    "for name, model in classification_models.items():\n",
    "    model.fit(X_train_cls, y_train_cls)\n",
    "    preds = model.predict(X_test_cls)\n",
    "    classification_results.append({\n",
    "        'Model': name,\n",
    "        'Accuracy': accuracy_score(y_test_cls, preds),\n",
    "        'Precision': precision_score(y_test_cls, preds),\n",
    "        'Recall': recall_score(y_test_cls, preds),\n",
    "        'F1 Score': f1_score(y_test_cls, preds),\n",
    "        'ROC AUC': roc_auc_score(y_test_cls, preds)\n",
    "    })\n",
    "\n",
    "classification_df = pd.DataFrame(classification_results).sort_values(by='F1 Score', ascending=False)\n",
    "print(\"\\n--- Classification Model Evaluation ---\")\n",
    "display(classification_df)\n"
   ]
  },
  {
   "cell_type": "code",
   "execution_count": null,
   "metadata": {},
   "outputs": [],
   "source": [
    "# # Save Best Models (based on evaluation)\n",
    "# best_reg_model = regression_models['XGBRegressor']\n",
    "# best_cls_model = classification_models['LogisticRegression']\n",
    "\n",
    "# joblib.dump(best_reg_model, 'xgboost_student_grade_model.pkl')\n",
    "# joblib.dump(best_cls_model, 'logistic_student_risk_model.pkl')\n",
    "\n",
    "# print(\"\\n✅ Models saved successfully!\")"
   ]
  },
  {
   "cell_type": "markdown",
   "metadata": {},
   "source": [
    "- Linear Regression achieved an R² of `X.XX`, indicating [brief interpretation].\n",
    "- Logistic Regression performed with [X%] precision and recall for at-risk students.\n",
    "- Threshold for risk was set at GPA < 2.0 (can be adjusted).\n",
    "- Future work: Experiment with other algorithms (RandomForest, XGBoost), hyperparameter tuning, and ensemble models."
   ]
  }
 ],
 "metadata": {
  "kernelspec": {
   "display_name": "learn-env",
   "language": "python",
   "name": "python3"
  },
  "language_info": {
   "codemirror_mode": {
    "name": "ipython",
    "version": 3
   },
   "file_extension": ".py",
   "mimetype": "text/x-python",
   "name": "python",
   "nbconvert_exporter": "python",
   "pygments_lexer": "ipython3",
   "version": "3.8.5"
  }
 },
 "nbformat": 4,
 "nbformat_minor": 2
}
