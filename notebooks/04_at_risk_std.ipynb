{
 "cells": [
  {
   "cell_type": "markdown",
   "metadata": {},
   "source": [
    "# **2. Identifying At-Risk Students**\n",
    "Classifying students who may be at risk of underperforming, enabling targeted interventions to support them."
   ]
  },
  {
   "cell_type": "code",
   "execution_count": 1,
   "metadata": {},
   "outputs": [
    {
     "name": "stderr",
     "output_type": "stream",
     "text": [
      "c:\\Users\\FRANK\\anaconda3\\envs\\learn-env\\lib\\site-packages\\xgboost\\compat.py:93: FutureWarning: pandas.Int64Index is deprecated and will be removed from pandas in a future version. Use pandas.Index with the appropriate dtype instead.\n",
      "  from pandas import MultiIndex, Int64Index\n"
     ]
    }
   ],
   "source": [
    "import pandas as pd\n",
    "import numpy as np\n",
    "\n",
    "import seaborn as sns\n",
    "import matplotlib.pyplot as plt\n",
    "%matplotlib inline\n",
    "sns.set_style('whitegrid')\n",
    "\n",
    "from sklearn.model_selection import train_test_split, cross_val_score, cross_val_predict\n",
    "from sklearn.preprocessing import OneHotEncoder, StandardScaler, OrdinalEncoder\n",
    "from sklearn.compose import ColumnTransformer\n",
    "from sklearn.pipeline import Pipeline\n",
    "from sklearn.ensemble import RandomForestClassifier\n",
    "from xgboost import XGBClassifier\n",
    "from sklearn.linear_model import LogisticRegression\n",
    "from sklearn.svm import SVC\n",
    "from sklearn.metrics import accuracy_score, f1_score, roc_auc_score\n",
    "\n",
    "import warnings\n",
    "warnings.filterwarnings('ignore', category=RuntimeWarning)\n",
    "warnings.filterwarnings('ignore', category=UserWarning)"
   ]
  },
  {
   "cell_type": "code",
   "execution_count": 2,
   "metadata": {},
   "outputs": [
    {
     "data": {
      "text/html": [
       "<div>\n",
       "<style scoped>\n",
       "    .dataframe tbody tr th:only-of-type {\n",
       "        vertical-align: middle;\n",
       "    }\n",
       "\n",
       "    .dataframe tbody tr th {\n",
       "        vertical-align: top;\n",
       "    }\n",
       "\n",
       "    .dataframe thead th {\n",
       "        text-align: right;\n",
       "    }\n",
       "</style>\n",
       "<table border=\"1\" class=\"dataframe\">\n",
       "  <thead>\n",
       "    <tr style=\"text-align: right;\">\n",
       "      <th></th>\n",
       "      <th>StudentID</th>\n",
       "      <th>Age</th>\n",
       "      <th>Gender</th>\n",
       "      <th>Ethnicity</th>\n",
       "      <th>ParentalEducation</th>\n",
       "      <th>StudyTimeWeekly</th>\n",
       "      <th>Absences</th>\n",
       "      <th>Tutoring</th>\n",
       "      <th>ParentalSupport</th>\n",
       "      <th>Extracurricular</th>\n",
       "      <th>Sports</th>\n",
       "      <th>Music</th>\n",
       "      <th>Volunteering</th>\n",
       "      <th>GPA</th>\n",
       "      <th>GradeClass</th>\n",
       "    </tr>\n",
       "  </thead>\n",
       "  <tbody>\n",
       "    <tr>\n",
       "      <th>0</th>\n",
       "      <td>1001</td>\n",
       "      <td>17</td>\n",
       "      <td>1</td>\n",
       "      <td>0</td>\n",
       "      <td>2</td>\n",
       "      <td>19.833723</td>\n",
       "      <td>7</td>\n",
       "      <td>1</td>\n",
       "      <td>2</td>\n",
       "      <td>0</td>\n",
       "      <td>0</td>\n",
       "      <td>1</td>\n",
       "      <td>0</td>\n",
       "      <td>2.929196</td>\n",
       "      <td>2.0</td>\n",
       "    </tr>\n",
       "    <tr>\n",
       "      <th>1</th>\n",
       "      <td>1002</td>\n",
       "      <td>18</td>\n",
       "      <td>0</td>\n",
       "      <td>0</td>\n",
       "      <td>1</td>\n",
       "      <td>15.408756</td>\n",
       "      <td>0</td>\n",
       "      <td>0</td>\n",
       "      <td>1</td>\n",
       "      <td>0</td>\n",
       "      <td>0</td>\n",
       "      <td>0</td>\n",
       "      <td>0</td>\n",
       "      <td>3.042915</td>\n",
       "      <td>1.0</td>\n",
       "    </tr>\n",
       "    <tr>\n",
       "      <th>2</th>\n",
       "      <td>1003</td>\n",
       "      <td>15</td>\n",
       "      <td>0</td>\n",
       "      <td>2</td>\n",
       "      <td>3</td>\n",
       "      <td>4.210570</td>\n",
       "      <td>26</td>\n",
       "      <td>0</td>\n",
       "      <td>2</td>\n",
       "      <td>0</td>\n",
       "      <td>0</td>\n",
       "      <td>0</td>\n",
       "      <td>0</td>\n",
       "      <td>0.112602</td>\n",
       "      <td>4.0</td>\n",
       "    </tr>\n",
       "  </tbody>\n",
       "</table>\n",
       "</div>"
      ],
      "text/plain": [
       "   StudentID  Age  Gender  Ethnicity  ParentalEducation  StudyTimeWeekly  \\\n",
       "0       1001   17       1          0                  2        19.833723   \n",
       "1       1002   18       0          0                  1        15.408756   \n",
       "2       1003   15       0          2                  3         4.210570   \n",
       "\n",
       "   Absences  Tutoring  ParentalSupport  Extracurricular  Sports  Music  \\\n",
       "0         7         1                2                0       0      1   \n",
       "1         0         0                1                0       0      0   \n",
       "2        26         0                2                0       0      0   \n",
       "\n",
       "   Volunteering       GPA  GradeClass  \n",
       "0             0  2.929196         2.0  \n",
       "1             0  3.042915         1.0  \n",
       "2             0  0.112602         4.0  "
      ]
     },
     "execution_count": 2,
     "metadata": {},
     "output_type": "execute_result"
    }
   ],
   "source": [
    "# Load data\n",
    "df = pd.read_csv(\"data/student_data.csv\")\n",
    "df.head(3)"
   ]
  },
  {
   "cell_type": "code",
   "execution_count": 3,
   "metadata": {},
   "outputs": [],
   "source": [
    "df.columns = df.columns.str.lower()"
   ]
  },
  {
   "cell_type": "code",
   "execution_count": 4,
   "metadata": {},
   "outputs": [
    {
     "data": {
      "text/plain": [
       "Index(['studentid', 'age', 'gender', 'ethnicity', 'parentaleducation',\n",
       "       'studytimeweekly', 'absences', 'tutoring', 'parentalsupport',\n",
       "       'extracurricular', 'sports', 'music', 'volunteering', 'gpa',\n",
       "       'gradeclass'],\n",
       "      dtype='object')"
      ]
     },
     "execution_count": 4,
     "metadata": {},
     "output_type": "execute_result"
    }
   ],
   "source": [
    "df.columns"
   ]
  },
  {
   "cell_type": "markdown",
   "metadata": {},
   "source": [
    "## Define 'At-Risk' Criteria\n",
    "Since we're not directly using the `gradeclass` column, we'll decide on what constitutes \"at-risk\" based on features like:\n",
    "\n",
    "- Absences: Define a threshold (e.g., >20 absences).\n",
    "- Parental Support: Low parental support as an indicator.\n",
    "- Study Time Weekly: Minimal weekly study time (e.g., <5 hours).\n",
    "- GPA: GPA below a certain threshold (e.g., <2.0).\n",
    "\n",
    "Then we'll create a binary target variable (at_risk) based on these criteria:\n",
    "\n",
    "- 1 for at-risk students.\n",
    "- 0 for students performing adequately.\n",
    "\n",
    "To simplify this process we'll be working with the most influential features in our previous models for predicting student gradeclass as they're already deemed suitable for determining student grades. We might as well apply the same to identify the students who may be at risk of underperforming."
   ]
  },
  {
   "cell_type": "markdown",
   "metadata": {},
   "source": [
    "Let's go ahead and inspect the summary statistics for the features of interest to help us refine thresholds for identifying at-risk students"
   ]
  },
  {
   "cell_type": "code",
   "execution_count": 5,
   "metadata": {},
   "outputs": [],
   "source": [
    "df = df.drop(columns=['studentid', 'age', 'gender', 'ethnicity', 'parentaleducation',\n",
    "                'extracurricular', 'sports', 'music', 'volunteering', 'tutoring'])"
   ]
  },
  {
   "cell_type": "code",
   "execution_count": 6,
   "metadata": {},
   "outputs": [
    {
     "data": {
      "text/html": [
       "<div>\n",
       "<style scoped>\n",
       "    .dataframe tbody tr th:only-of-type {\n",
       "        vertical-align: middle;\n",
       "    }\n",
       "\n",
       "    .dataframe tbody tr th {\n",
       "        vertical-align: top;\n",
       "    }\n",
       "\n",
       "    .dataframe thead th {\n",
       "        text-align: right;\n",
       "    }\n",
       "</style>\n",
       "<table border=\"1\" class=\"dataframe\">\n",
       "  <thead>\n",
       "    <tr style=\"text-align: right;\">\n",
       "      <th></th>\n",
       "      <th>absences</th>\n",
       "      <th>parentalsupport</th>\n",
       "      <th>studytimeweekly</th>\n",
       "      <th>gpa</th>\n",
       "    </tr>\n",
       "  </thead>\n",
       "  <tbody>\n",
       "    <tr>\n",
       "      <th>count</th>\n",
       "      <td>2392.000000</td>\n",
       "      <td>2392.000000</td>\n",
       "      <td>2392.000000</td>\n",
       "      <td>2392.000000</td>\n",
       "    </tr>\n",
       "    <tr>\n",
       "      <th>mean</th>\n",
       "      <td>14.541388</td>\n",
       "      <td>2.122074</td>\n",
       "      <td>9.771992</td>\n",
       "      <td>1.906186</td>\n",
       "    </tr>\n",
       "    <tr>\n",
       "      <th>std</th>\n",
       "      <td>8.467417</td>\n",
       "      <td>1.122813</td>\n",
       "      <td>5.652774</td>\n",
       "      <td>0.915156</td>\n",
       "    </tr>\n",
       "    <tr>\n",
       "      <th>min</th>\n",
       "      <td>0.000000</td>\n",
       "      <td>0.000000</td>\n",
       "      <td>0.001057</td>\n",
       "      <td>0.000000</td>\n",
       "    </tr>\n",
       "    <tr>\n",
       "      <th>25%</th>\n",
       "      <td>7.000000</td>\n",
       "      <td>1.000000</td>\n",
       "      <td>5.043079</td>\n",
       "      <td>1.174803</td>\n",
       "    </tr>\n",
       "    <tr>\n",
       "      <th>50%</th>\n",
       "      <td>15.000000</td>\n",
       "      <td>2.000000</td>\n",
       "      <td>9.705363</td>\n",
       "      <td>1.893393</td>\n",
       "    </tr>\n",
       "    <tr>\n",
       "      <th>75%</th>\n",
       "      <td>22.000000</td>\n",
       "      <td>3.000000</td>\n",
       "      <td>14.408410</td>\n",
       "      <td>2.622216</td>\n",
       "    </tr>\n",
       "    <tr>\n",
       "      <th>max</th>\n",
       "      <td>29.000000</td>\n",
       "      <td>4.000000</td>\n",
       "      <td>19.978094</td>\n",
       "      <td>4.000000</td>\n",
       "    </tr>\n",
       "  </tbody>\n",
       "</table>\n",
       "</div>"
      ],
      "text/plain": [
       "          absences  parentalsupport  studytimeweekly          gpa\n",
       "count  2392.000000      2392.000000      2392.000000  2392.000000\n",
       "mean     14.541388         2.122074         9.771992     1.906186\n",
       "std       8.467417         1.122813         5.652774     0.915156\n",
       "min       0.000000         0.000000         0.001057     0.000000\n",
       "25%       7.000000         1.000000         5.043079     1.174803\n",
       "50%      15.000000         2.000000         9.705363     1.893393\n",
       "75%      22.000000         3.000000        14.408410     2.622216\n",
       "max      29.000000         4.000000        19.978094     4.000000"
      ]
     },
     "execution_count": 6,
     "metadata": {},
     "output_type": "execute_result"
    }
   ],
   "source": [
    "features = ['absences', 'parentalsupport', 'studytimeweekly', 'gpa']\n",
    "df[features].describe()"
   ]
  },
  {
   "cell_type": "markdown",
   "metadata": {},
   "source": [
    "Based on what we have, we can implement the following threshold ideas:\n",
    "- Students with **absences > 22** (above the 75th percentile) could be considered at risk. This captures students with significantly higher absences compared to the majority.\n",
    "- Low parental support values (e.g. **<= 1**, which includes the bottom 25th percentile) could indicate at-risk students.\n",
    "- Students **studying < 5 hours weekly** (below the 25th percentile) could be flagged as at risk.\n",
    "- A **GPA < 1.17** (below the 25th percentile) could indicate at-risk students. This highlights those whose GPA is well below average.\n",
    "\n",
    "With this in mind, we will combine the thresholds to define the at-risk label."
   ]
  },
  {
   "cell_type": "code",
   "execution_count": 7,
   "metadata": {},
   "outputs": [],
   "source": [
    "#  -----------------------------------------------Approach 1---------------------------------------------------------\n",
    "# Since our goal for detection is **early detection** and **broad support** in the sense that we wish to capture students struggling in different aspects (e.g. attendance issues, \n",
    "# lack of study time, low gpa), we'll go with the **OR(|)** logic which is amore inclusive approach. This should help with early intervention, as even one risk factor can \n",
    "# negatively affect performance.\n",
    "\n",
    "# It's however worth noting that this logic might flag students who are actually doing well in some areas e.g. high GPA but many absenses and could subsequently lead to \n",
    "# false positives, increasing unnecessary interventions.\n",
    "# --------------------------------------------------------------------------------------------------------------------\n",
    "# # Define thresholds\n",
    "# absences_threshold = 22  \n",
    "# parentalsupport_threshold = 1  \n",
    "# studytime_threshold = 5  \n",
    "# gpa_threshold = 1.17\n",
    "\n",
    "# # Create 'at_risk' target\n",
    "# df['at_risk'] = np.where(\n",
    "#     (df['absences'] > absences_threshold) |\n",
    "#     (df['parentalsupport'] <= parentalsupport_threshold) |\n",
    "#     (df['studytimeweekly'] < studytime_threshold) |\n",
    "#     (df['gpa'] < gpa_threshold),\n",
    "#     1,  # At risk\n",
    "#     0   # Not at risk\n",
    "# )"
   ]
  },
  {
   "cell_type": "code",
   "execution_count": 8,
   "metadata": {},
   "outputs": [
    {
     "name": "stdout",
     "output_type": "stream",
     "text": [
      "\n",
      "At-Risk Classification using Weighted Approach:\n",
      "0    1818\n",
      "1     574\n",
      "Name: at_risk_weighted, dtype: int64\n"
     ]
    }
   ],
   "source": [
    "# Define thresholds\n",
    "absences_threshold = 22  \n",
    "parentalsupport_threshold = 1  \n",
    "studytime_threshold = 5  \n",
    "gpa_threshold = 1.17\n",
    "\n",
    "# Define weights\n",
    "weights = {\n",
    "    'absences': 0.35,\n",
    "    'parentalsupport': 0.20,\n",
    "    'studytimeweekly': 0.20,\n",
    "    'gpa': 0.40\n",
    "}\n",
    "\n",
    "# Compute risk scores\n",
    "df['risk_score'] = (\n",
    "    (df['absences'] > absences_threshold) * weights['absences'] +\n",
    "    (df['parentalsupport'] <= parentalsupport_threshold) * weights['parentalsupport'] +\n",
    "    (df['studytimeweekly'] < studytime_threshold) * weights['studytimeweekly'] +\n",
    "    (df['gpa'] < gpa_threshold) * weights['gpa']\n",
    ")\n",
    "\n",
    "# Classify at-risk students based on threshold\n",
    "df['at_risk_weighted'] = np.where(df['risk_score'] >= 0.5, 1, 0)\n",
    "\n",
    "\n",
    "at_risk_weighted = df['at_risk_weighted'].value_counts()\n",
    "\n",
    "print(\"\\nAt-Risk Classification using Weighted Approach:\")\n",
    "print(at_risk_weighted)"
   ]
  },
  {
   "cell_type": "code",
   "execution_count": 9,
   "metadata": {},
   "outputs": [
    {
     "data": {
      "image/png": "[encoded data removed]",
      "text/plain": [
       "<Figure size 432x432 with 1 Axes>"
      ]
     },
     "metadata": {},
     "output_type": "display_data"
    }
   ],
   "source": [
    "# Count the number of at-risk and not-at-risk students\n",
    "at_risk_weighted_counts = df['at_risk_weighted'].value_counts()\n",
    "\n",
    "# Define labels and sizes for the pie chart\n",
    "labels = ['Not At-Risk', 'At-Risk']\n",
    "sizes = at_risk_weighted_counts.values\n",
    "\n",
    "# Define colors for better visualization\n",
    "colors = ['#1f77b4', '#ff7f0e']  # Blue and orange\n",
    "\n",
    "# Plot the pie chart\n",
    "plt.figure(figsize=(6, 6))\n",
    "plt.pie(\n",
    "    sizes,\n",
    "    labels=labels,\n",
    "    autopct='%1.1f%%',\n",
    "    startangle=90,\n",
    "    colors=colors,\n",
    "    wedgeprops={'edgecolor': 'white'}\n",
    ")\n",
    "plt.title('Proportion of At-Risk vs. Not At-Risk Students')\n",
    "plt.show()"
   ]
  },
  {
   "cell_type": "code",
   "execution_count": 10,
   "metadata": {},
   "outputs": [
    {
     "data": {
      "text/plain": [
       "1.9061863027265407"
      ]
     },
     "execution_count": 10,
     "metadata": {},
     "output_type": "execute_result"
    }
   ],
   "source": [
    "df['gpa'].mean()"
   ]
  },
  {
   "cell_type": "code",
   "execution_count": 11,
   "metadata": {},
   "outputs": [],
   "source": [
    "### Criteria 2: Weighted Approach ###\n",
    "\n",
    "# # Define risk factor weights (adjustable)\n",
    "# weights = {\n",
    "#     'absences': 1.5,  # High absences have strong impact\n",
    "#     'parentalsupport': 2.0,  # Lack of support is critical\n",
    "#     'studytimeweekly': 1.0,  # Low study time contributes\n",
    "#     'gpa': 2.5  # GPA is the strongest indicator\n",
    "# }\n",
    "\n",
    "# # Compute individual risk contributions (binary: 1 if criteria met, 0 otherwise)\n",
    "# df['risk_absences'] = np.where(df['absences'] > 22, 1, 0) * weights['absences']\n",
    "# df['risk_parentalsupport'] = np.where(df['parentalsupport'] <= 1, 1, 0) * weights['parentalsupport']\n",
    "# df['risk_studytime'] = np.where(df['studytimeweekly'] < 5, 1, 0) * weights['studytimeweekly']\n",
    "# df['risk_gpa'] = np.where(df['gpa'] < 1.17, 1, 0) * weights['gpa']\n",
    "\n",
    "# # Total risk score\n",
    "# df['total_risk_score'] = (\n",
    "#     df['risk_absences'] + df['risk_parentalsupport'] + \n",
    "#     df['risk_studytime'] + df['risk_gpa']\n",
    "# )\n",
    "\n",
    "# # Define at-risk threshold (e.g., total risk score >= 3.5)\n",
    "# df['at_risk1'] = np.where(df['total_risk_score'] >= 3.5, 1, 0)\n",
    "\n",
    "# # Drop temporary columns used for calculations if not needed\n",
    "# df.drop(columns=['risk_absences', 'risk_parentalsupport', 'risk_studytime', 'risk_gpa'], inplace=True)"
   ]
  },
  {
   "cell_type": "code",
   "execution_count": 12,
   "metadata": {},
   "outputs": [
    {
     "data": {
      "text/html": [
       "<div>\n",
       "<style scoped>\n",
       "    .dataframe tbody tr th:only-of-type {\n",
       "        vertical-align: middle;\n",
       "    }\n",
       "\n",
       "    .dataframe tbody tr th {\n",
       "        vertical-align: top;\n",
       "    }\n",
       "\n",
       "    .dataframe thead th {\n",
       "        text-align: right;\n",
       "    }\n",
       "</style>\n",
       "<table border=\"1\" class=\"dataframe\">\n",
       "  <thead>\n",
       "    <tr style=\"text-align: right;\">\n",
       "      <th></th>\n",
       "      <th>studytimeweekly</th>\n",
       "      <th>absences</th>\n",
       "      <th>parentalsupport</th>\n",
       "      <th>gpa</th>\n",
       "      <th>gradeclass</th>\n",
       "      <th>risk_score</th>\n",
       "      <th>at_risk_weighted</th>\n",
       "    </tr>\n",
       "  </thead>\n",
       "  <tbody>\n",
       "    <tr>\n",
       "      <th>0</th>\n",
       "      <td>19.833723</td>\n",
       "      <td>7</td>\n",
       "      <td>2</td>\n",
       "      <td>2.929196</td>\n",
       "      <td>2.0</td>\n",
       "      <td>0.00</td>\n",
       "      <td>0</td>\n",
       "    </tr>\n",
       "    <tr>\n",
       "      <th>1</th>\n",
       "      <td>15.408756</td>\n",
       "      <td>0</td>\n",
       "      <td>1</td>\n",
       "      <td>3.042915</td>\n",
       "      <td>1.0</td>\n",
       "      <td>0.20</td>\n",
       "      <td>0</td>\n",
       "    </tr>\n",
       "    <tr>\n",
       "      <th>2</th>\n",
       "      <td>4.210570</td>\n",
       "      <td>26</td>\n",
       "      <td>2</td>\n",
       "      <td>0.112602</td>\n",
       "      <td>4.0</td>\n",
       "      <td>0.95</td>\n",
       "      <td>1</td>\n",
       "    </tr>\n",
       "    <tr>\n",
       "      <th>3</th>\n",
       "      <td>10.028829</td>\n",
       "      <td>14</td>\n",
       "      <td>3</td>\n",
       "      <td>2.054218</td>\n",
       "      <td>3.0</td>\n",
       "      <td>0.00</td>\n",
       "      <td>0</td>\n",
       "    </tr>\n",
       "    <tr>\n",
       "      <th>4</th>\n",
       "      <td>4.672495</td>\n",
       "      <td>17</td>\n",
       "      <td>3</td>\n",
       "      <td>1.288061</td>\n",
       "      <td>4.0</td>\n",
       "      <td>0.20</td>\n",
       "      <td>0</td>\n",
       "    </tr>\n",
       "    <tr>\n",
       "      <th>5</th>\n",
       "      <td>8.191219</td>\n",
       "      <td>0</td>\n",
       "      <td>1</td>\n",
       "      <td>3.084184</td>\n",
       "      <td>1.0</td>\n",
       "      <td>0.20</td>\n",
       "      <td>0</td>\n",
       "    </tr>\n",
       "    <tr>\n",
       "      <th>6</th>\n",
       "      <td>15.601680</td>\n",
       "      <td>10</td>\n",
       "      <td>3</td>\n",
       "      <td>2.748237</td>\n",
       "      <td>2.0</td>\n",
       "      <td>0.00</td>\n",
       "      <td>0</td>\n",
       "    </tr>\n",
       "    <tr>\n",
       "      <th>7</th>\n",
       "      <td>15.424496</td>\n",
       "      <td>22</td>\n",
       "      <td>1</td>\n",
       "      <td>1.360143</td>\n",
       "      <td>4.0</td>\n",
       "      <td>0.20</td>\n",
       "      <td>0</td>\n",
       "    </tr>\n",
       "    <tr>\n",
       "      <th>8</th>\n",
       "      <td>4.562008</td>\n",
       "      <td>1</td>\n",
       "      <td>2</td>\n",
       "      <td>2.896819</td>\n",
       "      <td>2.0</td>\n",
       "      <td>0.20</td>\n",
       "      <td>0</td>\n",
       "    </tr>\n",
       "    <tr>\n",
       "      <th>9</th>\n",
       "      <td>18.444466</td>\n",
       "      <td>0</td>\n",
       "      <td>3</td>\n",
       "      <td>3.573474</td>\n",
       "      <td>0.0</td>\n",
       "      <td>0.00</td>\n",
       "      <td>0</td>\n",
       "    </tr>\n",
       "    <tr>\n",
       "      <th>10</th>\n",
       "      <td>11.851364</td>\n",
       "      <td>11</td>\n",
       "      <td>1</td>\n",
       "      <td>2.147172</td>\n",
       "      <td>3.0</td>\n",
       "      <td>0.20</td>\n",
       "      <td>0</td>\n",
       "    </tr>\n",
       "    <tr>\n",
       "      <th>11</th>\n",
       "      <td>7.598486</td>\n",
       "      <td>15</td>\n",
       "      <td>2</td>\n",
       "      <td>1.559595</td>\n",
       "      <td>4.0</td>\n",
       "      <td>0.00</td>\n",
       "      <td>0</td>\n",
       "    </tr>\n",
       "    <tr>\n",
       "      <th>12</th>\n",
       "      <td>10.038712</td>\n",
       "      <td>21</td>\n",
       "      <td>3</td>\n",
       "      <td>1.520078</td>\n",
       "      <td>4.0</td>\n",
       "      <td>0.00</td>\n",
       "      <td>0</td>\n",
       "    </tr>\n",
       "    <tr>\n",
       "      <th>13</th>\n",
       "      <td>12.101425</td>\n",
       "      <td>21</td>\n",
       "      <td>4</td>\n",
       "      <td>1.751581</td>\n",
       "      <td>4.0</td>\n",
       "      <td>0.00</td>\n",
       "      <td>0</td>\n",
       "    </tr>\n",
       "    <tr>\n",
       "      <th>14</th>\n",
       "      <td>11.197811</td>\n",
       "      <td>9</td>\n",
       "      <td>2</td>\n",
       "      <td>2.396788</td>\n",
       "      <td>3.0</td>\n",
       "      <td>0.00</td>\n",
       "      <td>0</td>\n",
       "    </tr>\n",
       "    <tr>\n",
       "      <th>15</th>\n",
       "      <td>9.728101</td>\n",
       "      <td>17</td>\n",
       "      <td>0</td>\n",
       "      <td>1.341521</td>\n",
       "      <td>4.0</td>\n",
       "      <td>0.20</td>\n",
       "      <td>0</td>\n",
       "    </tr>\n",
       "    <tr>\n",
       "      <th>16</th>\n",
       "      <td>10.098656</td>\n",
       "      <td>14</td>\n",
       "      <td>2</td>\n",
       "      <td>2.232175</td>\n",
       "      <td>3.0</td>\n",
       "      <td>0.00</td>\n",
       "      <td>0</td>\n",
       "    </tr>\n",
       "    <tr>\n",
       "      <th>17</th>\n",
       "      <td>3.528238</td>\n",
       "      <td>16</td>\n",
       "      <td>2</td>\n",
       "      <td>1.384404</td>\n",
       "      <td>4.0</td>\n",
       "      <td>0.20</td>\n",
       "      <td>0</td>\n",
       "    </tr>\n",
       "    <tr>\n",
       "      <th>18</th>\n",
       "      <td>16.254658</td>\n",
       "      <td>29</td>\n",
       "      <td>2</td>\n",
       "      <td>0.469553</td>\n",
       "      <td>4.0</td>\n",
       "      <td>0.75</td>\n",
       "      <td>1</td>\n",
       "    </tr>\n",
       "    <tr>\n",
       "      <th>19</th>\n",
       "      <td>10.835206</td>\n",
       "      <td>9</td>\n",
       "      <td>2</td>\n",
       "      <td>2.395784</td>\n",
       "      <td>3.0</td>\n",
       "      <td>0.00</td>\n",
       "      <td>0</td>\n",
       "    </tr>\n",
       "  </tbody>\n",
       "</table>\n",
       "</div>"
      ],
      "text/plain": [
       "    studytimeweekly  absences  parentalsupport       gpa  gradeclass  \\\n",
       "0         19.833723         7                2  2.929196         2.0   \n",
       "1         15.408756         0                1  3.042915         1.0   \n",
       "2          4.210570        26                2  0.112602         4.0   \n",
       "3         10.028829        14                3  2.054218         3.0   \n",
       "4          4.672495        17                3  1.288061         4.0   \n",
       "5          8.191219         0                1  3.084184         1.0   \n",
       "6         15.601680        10                3  2.748237         2.0   \n",
       "7         15.424496        22                1  1.360143         4.0   \n",
       "8          4.562008         1                2  2.896819         2.0   \n",
       "9         18.444466         0                3  3.573474         0.0   \n",
       "10        11.851364        11                1  2.147172         3.0   \n",
       "11         7.598486        15                2  1.559595         4.0   \n",
       "12        10.038712        21                3  1.520078         4.0   \n",
       "13        12.101425        21                4  1.751581         4.0   \n",
       "14        11.197811         9                2  2.396788         3.0   \n",
       "15         9.728101        17                0  1.341521         4.0   \n",
       "16        10.098656        14                2  2.232175         3.0   \n",
       "17         3.528238        16                2  1.384404         4.0   \n",
       "18        16.254658        29                2  0.469553         4.0   \n",
       "19        10.835206         9                2  2.395784         3.0   \n",
       "\n",
       "    risk_score  at_risk_weighted  \n",
       "0         0.00                 0  \n",
       "1         0.20                 0  \n",
       "2         0.95                 1  \n",
       "3         0.00                 0  \n",
       "4         0.20                 0  \n",
       "5         0.20                 0  \n",
       "6         0.00                 0  \n",
       "7         0.20                 0  \n",
       "8         0.20                 0  \n",
       "9         0.00                 0  \n",
       "10        0.20                 0  \n",
       "11        0.00                 0  \n",
       "12        0.00                 0  \n",
       "13        0.00                 0  \n",
       "14        0.00                 0  \n",
       "15        0.20                 0  \n",
       "16        0.00                 0  \n",
       "17        0.20                 0  \n",
       "18        0.75                 1  \n",
       "19        0.00                 0  "
      ]
     },
     "execution_count": 12,
     "metadata": {},
     "output_type": "execute_result"
    }
   ],
   "source": [
    "df.head(20)"
   ]
  },
  {
   "cell_type": "markdown",
   "metadata": {},
   "source": [
    "- The **OR condition** is more lenient, marking a larger proportion (60%) of students as at-risk.\n",
    "\n",
    "    This is because a single risk factor is enough to classify a student as at-risk.\n",
    "\n",
    "    This approach might however overestimate the number of at-risk students, making it harder to target interventions effectively.\n",
    "\n",
    "- The **Weighted Approach** is more selective, classifying only 24% (574 students) as at-risk.\n",
    "\n",
    "    This ensures that students with multiple risk factors are identified, rather than those who have just one mild risk factor.\n",
    "\n",
    "    This approach might be more realistic because interventions can be prioritized for students facing multiple challenges which is what we choose to work with for this task."
   ]
  },
  {
   "cell_type": "markdown",
   "metadata": {},
   "source": [
    "Now that we defined the \"At-Risk\" label using the weighted approach, let's go ahead and build a machine learning model to predict whether a student is at risk based on their features.\n",
    "\n",
    "**1. Train-Test Split**"
   ]
  },
  {
   "cell_type": "code",
   "execution_count": 13,
   "metadata": {},
   "outputs": [],
   "source": [
    "# Define features (X) and target variable (y)\n",
    "X = df.drop(columns=['at_risk_weighted', 'gradeclass', 'risk_score']) \n",
    "y = df['at_risk_weighted'] \n",
    "\n",
    "# Split into training and testing sets (80% train, 20% test)\n",
    "X_train, X_test, y_train, y_test = train_test_split(X, y, test_size=0.2, random_state=42, stratify=y)"
   ]
  },
  {
   "cell_type": "markdown",
   "metadata": {},
   "source": [
    "**2. Data Preprocessing**\n",
    "\n",
    "Our dataset contains categorical and numerical features that will need processing before feeding it into a model.\n",
    "\n",
    "- *Categorical Variables*: One-Hot Encoding for nominal features, and keep ordinal features as is.\n",
    "- *Numerical Variables*: Scaling (StandardScaler) for better model performance."
   ]
  },
  {
   "cell_type": "code",
   "execution_count": 14,
   "metadata": {},
   "outputs": [],
   "source": [
    "# # Define categorical and numerical features\n",
    "# binary_features = ['gender', 'tutoring', 'extracurricular', 'sports', 'music', 'volunteering']\n",
    "# ordinal_features = ['parentalsupport']\n",
    "# nominal_features = ['ethnicity', 'parentaleducation']\n",
    "# numerical_features = ['studytimeweekly', 'absences', 'gpa']\n",
    "\n",
    "# # Column transformer\n",
    "# preprocessor = ColumnTransformer(\n",
    "#     transformers=[\n",
    "#         ('onehot', OneHotEncoder(drop='first'), nominal_features),\n",
    "#         ('scale', StandardScaler(), numerical_features)\n",
    "#     ],\n",
    "#     remainder='passthrough'  # Keep binary and ordinal features as is\n",
    "# )"
   ]
  },
  {
   "cell_type": "code",
   "execution_count": 15,
   "metadata": {},
   "outputs": [],
   "source": [
    "# Define selected features for At-Risk classification\n",
    "ordinal_features = ['parentalsupport']\n",
    "numerical_features = ['studytimeweekly', 'absences', 'gpa']\n",
    "\n",
    "# Column transformer for preprocessing\n",
    "preprocessor = ColumnTransformer(\n",
    "    transformers=[\n",
    "        ('scale', StandardScaler(), numerical_features),  # Scale numerical features\n",
    "        ('ordinal', OrdinalEncoder(), ordinal_features) # Encode ordinal features\n",
    "    ]\n",
    ")"
   ]
  },
  {
   "cell_type": "markdown",
   "metadata": {},
   "source": [
    "**3. Model Training and Evaluation.**\n",
    "\n",
    "To identify the best model, we can train multiple classifiers and evaluate their performance using accuracy, F1-score, and AUC-ROC."
   ]
  },
  {
   "cell_type": "code",
   "execution_count": 16,
   "metadata": {},
   "outputs": [
    {
     "name": "stdout",
     "output_type": "stream",
     "text": [
      "                 Model  Accuracy  F1-Score   AUC-ROC\n",
      "1              XGBoost  0.993737  0.987124  0.999881\n",
      "0        Random Forest  0.987474  0.973913  0.999713\n",
      "2  Logistic Regression  0.964509  0.925764  0.993789\n",
      "3                  SVM  0.962422  0.924370  0.993407\n"
     ]
    }
   ],
   "source": [
    "# Define models\n",
    "models = {\n",
    "    'Random Forest': RandomForestClassifier(random_state=42, n_estimators=100,  max_depth=10, min_samples_split=10, min_samples_leaf=5),\n",
    "    'XGBoost': XGBClassifier(use_label_encoder=False, eval_metric='logloss', max_depth=5, learning_rate=0.1, n_estimators=100, subsample=0.8, colsample_bytree=0.8, verbosity=0),\n",
    "    'Logistic Regression': LogisticRegression(),\n",
    "    'SVM': SVC(probability=True)\n",
    "}\n",
    "\n",
    "# Store results\n",
    "results = []\n",
    "\n",
    "for name, model in models.items():\n",
    "    pipeline = Pipeline([\n",
    "        ('preprocessor', preprocessor),\n",
    "        ('classifier', model)\n",
    "    ])\n",
    "    \n",
    "    # Train the model\n",
    "    pipeline.fit(X_train, y_train)  \n",
    "    \n",
    "    # Predict\n",
    "    y_pred = pipeline.predict(X_test)\n",
    "    y_pred_proba = pipeline.predict_proba(X_test)[:, 1]  # Probabilities for AUC-ROC\n",
    "    \n",
    "    # Evaluate performance\n",
    "    acc = accuracy_score(y_test, y_pred)\n",
    "    f1 = f1_score(y_test, y_pred)\n",
    "    auc = roc_auc_score(y_test, y_pred_proba)\n",
    "    \n",
    "    results.append({'Model': name, 'Accuracy': acc, 'F1-Score': f1, 'AUC-ROC': auc})\n",
    "\n",
    "# Convert results to DataFrame and display\n",
    "results_df = pd.DataFrame(results)\n",
    "print(results_df.sort_values(by=\"AUC-ROC\", ascending=False))"
   ]
  },
  {
   "cell_type": "markdown",
   "metadata": {},
   "source": [
    "The models still perform exceptionally well on train our data. We can proceed to check for overfitting  by comparing Train and Test test performance"
   ]
  },
  {
   "cell_type": "code",
   "execution_count": 17,
   "metadata": {},
   "outputs": [],
   "source": [
    "# %pip install pandas==1.5.3"
   ]
  },
  {
   "cell_type": "markdown",
   "metadata": {},
   "source": [
    "## Overfitting & Underfitting Checks\n",
    "\n",
    "Now that we have a working pipeline, we need to compare train vs test performance to check for overfitting or underfitting.\n",
    "\n",
    "**1. Train-Test Performance Check**"
   ]
  },
  {
   "cell_type": "code",
   "execution_count": 18,
   "metadata": {},
   "outputs": [
    {
     "name": "stdout",
     "output_type": "stream",
     "text": [
      "                 Model  Train Accuracy  Test Accuracy  Train F1   Test F1  \\\n",
      "1              XGBoost        1.000000       0.993737  1.000000  0.987124   \n",
      "0        Random Forest        0.998955       0.987474  0.997817  0.973913   \n",
      "2  Logistic Regression        0.971772       0.964509  0.941304  0.925764   \n",
      "3                  SVM        0.978045       0.962422  0.954048  0.924370   \n",
      "\n",
      "   Train AUC  Test AUC  \n",
      "1   1.000000  0.999881  \n",
      "0   1.000000  0.999713  \n",
      "2   0.996579  0.993789  \n",
      "3   0.997280  0.993407  \n"
     ]
    }
   ],
   "source": [
    "# 1. Train-Test Performance Check\n",
    "\n",
    "# Store results\n",
    "results = []\n",
    "\n",
    "for name, model in models.items():\n",
    "    pipeline = Pipeline([\n",
    "        ('preprocessor', preprocessor),\n",
    "        ('classifier', model)\n",
    "    ])\n",
    "    \n",
    "    pipeline.fit(X_train, y_train)\n",
    "    \n",
    "    # Train Performance\n",
    "    y_train_pred = pipeline.predict(X_train)\n",
    "    y_train_proba = pipeline.predict_proba(X_train)[:, 1]\n",
    "    train_acc = accuracy_score(y_train, y_train_pred)\n",
    "    train_f1 = f1_score(y_train, y_train_pred)\n",
    "    train_auc = roc_auc_score(y_train, y_train_proba)\n",
    "    \n",
    "    # Test Performance\n",
    "    y_test_pred = pipeline.predict(X_test)\n",
    "    y_test_proba = pipeline.predict_proba(X_test)[:, 1]\n",
    "    test_acc = accuracy_score(y_test, y_test_pred)\n",
    "    test_f1 = f1_score(y_test, y_test_pred)\n",
    "    test_auc = roc_auc_score(y_test, y_test_proba)\n",
    "    \n",
    "    # Append all metrics correctly in one row\n",
    "    results.append({\n",
    "        'Model': name,\n",
    "        'Train Accuracy': train_acc, 'Test Accuracy': test_acc,\n",
    "        'Train F1': train_f1, 'Test F1': test_f1,\n",
    "        'Train AUC': train_auc, 'Test AUC': test_auc\n",
    "    })\n",
    "\n",
    "# Convert to DataFrame\n",
    "results_df = pd.DataFrame(results)\n",
    "print(results_df.sort_values(by=\"Test AUC\", ascending=False))"
   ]
  },
  {
   "cell_type": "code",
   "execution_count": 19,
   "metadata": {},
   "outputs": [
    {
     "data": {
      "text/html": [
       "<div>\n",
       "<style scoped>\n",
       "    .dataframe tbody tr th:only-of-type {\n",
       "        vertical-align: middle;\n",
       "    }\n",
       "\n",
       "    .dataframe tbody tr th {\n",
       "        vertical-align: top;\n",
       "    }\n",
       "\n",
       "    .dataframe thead th {\n",
       "        text-align: right;\n",
       "    }\n",
       "</style>\n",
       "<table border=\"1\" class=\"dataframe\">\n",
       "  <thead>\n",
       "    <tr style=\"text-align: right;\">\n",
       "      <th></th>\n",
       "      <th>Model</th>\n",
       "      <th>Train Accuracy</th>\n",
       "      <th>Test Accuracy</th>\n",
       "      <th>Train F1</th>\n",
       "      <th>Test F1</th>\n",
       "      <th>Train AUC</th>\n",
       "      <th>Test AUC</th>\n",
       "    </tr>\n",
       "  </thead>\n",
       "  <tbody>\n",
       "    <tr>\n",
       "      <th>0</th>\n",
       "      <td>Random Forest</td>\n",
       "      <td>0.998955</td>\n",
       "      <td>0.987474</td>\n",
       "      <td>0.997817</td>\n",
       "      <td>0.973913</td>\n",
       "      <td>1.000000</td>\n",
       "      <td>0.999713</td>\n",
       "    </tr>\n",
       "    <tr>\n",
       "      <th>1</th>\n",
       "      <td>XGBoost</td>\n",
       "      <td>1.000000</td>\n",
       "      <td>0.993737</td>\n",
       "      <td>1.000000</td>\n",
       "      <td>0.987124</td>\n",
       "      <td>1.000000</td>\n",
       "      <td>0.999881</td>\n",
       "    </tr>\n",
       "    <tr>\n",
       "      <th>2</th>\n",
       "      <td>Logistic Regression</td>\n",
       "      <td>0.971772</td>\n",
       "      <td>0.964509</td>\n",
       "      <td>0.941304</td>\n",
       "      <td>0.925764</td>\n",
       "      <td>0.996579</td>\n",
       "      <td>0.993789</td>\n",
       "    </tr>\n",
       "    <tr>\n",
       "      <th>3</th>\n",
       "      <td>SVM</td>\n",
       "      <td>0.978045</td>\n",
       "      <td>0.962422</td>\n",
       "      <td>0.954048</td>\n",
       "      <td>0.924370</td>\n",
       "      <td>0.997280</td>\n",
       "      <td>0.993407</td>\n",
       "    </tr>\n",
       "  </tbody>\n",
       "</table>\n",
       "</div>"
      ],
      "text/plain": [
       "                 Model  Train Accuracy  Test Accuracy  Train F1   Test F1  \\\n",
       "0        Random Forest        0.998955       0.987474  0.997817  0.973913   \n",
       "1              XGBoost        1.000000       0.993737  1.000000  0.987124   \n",
       "2  Logistic Regression        0.971772       0.964509  0.941304  0.925764   \n",
       "3                  SVM        0.978045       0.962422  0.954048  0.924370   \n",
       "\n",
       "   Train AUC  Test AUC  \n",
       "0   1.000000  0.999713  \n",
       "1   1.000000  0.999881  \n",
       "2   0.996579  0.993789  \n",
       "3   0.997280  0.993407  "
      ]
     },
     "execution_count": 19,
     "metadata": {},
     "output_type": "execute_result"
    }
   ],
   "source": [
    "results_df"
   ]
  },
  {
   "cell_type": "markdown",
   "metadata": {},
   "source": [
    "Random Forest & XGBoost are overfitting, we can try and improve generalization by modifying the parameters for both models"
   ]
  },
  {
   "cell_type": "markdown",
   "metadata": {},
   "source": [
    "**2. Cross-Validation**"
   ]
  },
  {
   "cell_type": "code",
   "execution_count": 20,
   "metadata": {},
   "outputs": [
    {
     "name": "stdout",
     "output_type": "stream",
     "text": [
      "                 Model  CV Accuracy  CV F1-Score  CV AUC-ROC\n",
      "1              XGBoost     0.994774     0.989034    0.999858\n",
      "0        Random Forest     0.990588     0.980146    0.999513\n",
      "3                  SVM     0.977522     0.952994    0.996797\n",
      "2  Logistic Regression     0.971769     0.941165    0.996399\n"
     ]
    }
   ],
   "source": [
    "cv_results = []\n",
    "\n",
    "for name, model in models.items():\n",
    "    pipeline = Pipeline([\n",
    "        ('preprocessor', preprocessor),\n",
    "        ('classifier', model)\n",
    "    ])\n",
    "    \n",
    "    # Perform cross-validation\n",
    "    cv_accuracy = cross_val_score(pipeline, X_train, y_train, cv=5, scoring='accuracy').mean()\n",
    "    cv_f1 = cross_val_score(pipeline, X_train, y_train, cv=5, scoring='f1').mean()\n",
    "    cv_auc = cross_val_score(pipeline, X_train, y_train, cv=5, scoring='roc_auc').mean()\n",
    "    \n",
    "    cv_results.append({'Model': name, 'CV Accuracy': cv_accuracy, 'CV F1-Score': cv_f1, 'CV AUC-ROC': cv_auc})\n",
    "\n",
    "# Convert to DataFrame\n",
    "cv_results_df = pd.DataFrame(cv_results)\n",
    "print(cv_results_df.sort_values(by=\"CV AUC-ROC\", ascending=False))"
   ]
  },
  {
   "cell_type": "code",
   "execution_count": 21,
   "metadata": {},
   "outputs": [
    {
     "name": "stdout",
     "output_type": "stream",
     "text": [
      "                 Model  CV Accuracy  CV F1-Score  CV AUC-ROC\n",
      "1              XGBoost     0.994774     0.989034    0.999858\n",
      "0        Random Forest     0.990588     0.980146    0.999513\n",
      "3                  SVM     0.977522     0.952994    0.996797\n",
      "2  Logistic Regression     0.971769     0.941165    0.996399\n"
     ]
    }
   ],
   "source": [
    "# Store CV results\n",
    "cv_results = []\n",
    "\n",
    "for name, model in models.items():\n",
    "    pipeline = Pipeline([\n",
    "        ('preprocessor', preprocessor),\n",
    "        ('classifier', model)\n",
    "    ])\n",
    "    \n",
    "    # Perform Cross-Validation\n",
    "    cv_accuracy = cross_val_score(pipeline, X_train, y_train, cv=5, scoring='accuracy')\n",
    "    cv_f1 = cross_val_score(pipeline, X_train, y_train, cv=5, scoring='f1')\n",
    "    cv_auc = cross_val_score(pipeline, X_train, y_train, cv=5, scoring='roc_auc')\n",
    "\n",
    "    # Get predicted probabilities for AUC calculation\n",
    "    y_cv_pred = cross_val_predict(pipeline, X_train, y_train, cv=5, method='predict')\n",
    "    y_cv_proba = cross_val_predict(pipeline, X_train, y_train, cv=5, method='predict_proba')[:, 1]\n",
    "    \n",
    "    # Calculate performance metrics\n",
    "    avg_cv_accuracy = cv_accuracy.mean()\n",
    "    avg_cv_f1 = cv_f1.mean()\n",
    "    avg_cv_auc = cv_auc.mean()\n",
    "    \n",
    "    # Append results\n",
    "    cv_results.append({\n",
    "        'Model': name,\n",
    "        'CV Accuracy': avg_cv_accuracy,\n",
    "        'CV F1-Score': avg_cv_f1,\n",
    "        'CV AUC-ROC': avg_cv_auc\n",
    "    })\n",
    "\n",
    "# Convert to DataFrame\n",
    "cv_results_df = pd.DataFrame(cv_results)\n",
    "print(cv_results_df.sort_values(by=\"CV AUC-ROC\", ascending=False))"
   ]
  },
  {
   "cell_type": "markdown",
   "metadata": {},
   "source": [
    "Cross-validation (CV) results are still quite high, indicating strong performance across different data splits. However, XGBoost and Random Forest are still showing near-perfect AUC-ROC scores (~0.999), which strongly suggests overfitting.\n",
    "\n",
    "SVM and Logistic Regression show more reasonable generalization from the results"
   ]
  },
  {
   "cell_type": "markdown",
   "metadata": {},
   "source": [
    "**Random Forest Hyperparameter Tuning**"
   ]
  },
  {
   "cell_type": "code",
   "execution_count": 22,
   "metadata": {},
   "outputs": [],
   "source": [
    "from sklearn.ensemble import RandomForestClassifier\n",
    "from sklearn.model_selection import GridSearchCV\n",
    "\n",
    "# # Define the parameter grid\n",
    "# rf_param_grid = {\n",
    "#     'n_estimators': [100, 200, 300], \n",
    "#     'max_depth': [5, 10, 15, None],  \n",
    "#     'min_samples_split': [2, 5, 10],  \n",
    "#     'min_samples_leaf': [1, 2, 4],  \n",
    "#     'max_features': ['sqrt', 'log2']\n",
    "# }\n",
    "\n",
    "# # Initialize the model\n",
    "# rf_model = RandomForestClassifier(random_state=42)\n",
    "\n",
    "# # Grid search with 5-fold CV\n",
    "# rf_grid_search = GridSearchCV(rf_model, rf_param_grid, cv=5, scoring='roc_auc', n_jobs=-1, verbose=2)\n",
    "# rf_grid_search.fit(X_train, y_train)\n",
    "\n",
    "# # Best parameters & score\n",
    "# print(\"Best RF Parameters:\", rf_grid_search.best_params_)\n",
    "# print(\"Best RF AUC-ROC:\", rf_grid_search.best_score_)\n",
    "\n",
    "# -----------------------------7 MINUTES RUNTIME--------------------------------"
   ]
  },
  {
   "cell_type": "code",
   "execution_count": 23,
   "metadata": {},
   "outputs": [
    {
     "name": "stdout",
     "output_type": "stream",
     "text": [
      "Final Random Forest Performance on Test Set:\n",
      "Accuracy: 0.9937\n",
      "F1-Score: 0.9871\n",
      "AUC-ROC: 1.0000\n"
     ]
    }
   ],
   "source": [
    "# Train Random Forest with best parameters\n",
    "best_rf = RandomForestClassifier(\n",
    "    max_depth=10, \n",
    "    max_features='sqrt', \n",
    "    min_samples_leaf=1, \n",
    "    min_samples_split=2, \n",
    "    n_estimators=300, \n",
    "    random_state=42\n",
    ")\n",
    "\n",
    "best_rf.fit(X_train, y_train)\n",
    "\n",
    "# Predictions\n",
    "y_pred_rf = best_rf.predict(X_test)\n",
    "y_pred_proba_rf = best_rf.predict_proba(X_test)[:, 1]\n",
    "\n",
    "# Evaluate performance\n",
    "rf_test_acc = accuracy_score(y_test, y_pred_rf)\n",
    "rf_test_f1 = f1_score(y_test, y_pred_rf)\n",
    "rf_test_auc = roc_auc_score(y_test, y_pred_proba_rf)\n",
    "\n",
    "# Print test results\n",
    "print(\"Final Random Forest Performance on Test Set:\")\n",
    "print(f\"Accuracy: {rf_test_acc:.4f}\")\n",
    "print(f\"F1-Score: {rf_test_f1:.4f}\")\n",
    "print(f\"AUC-ROC: {rf_test_auc:.4f}\")"
   ]
  },
  {
   "cell_type": "markdown",
   "metadata": {},
   "source": [
    "**Tuning XGBoost Model with GridSearch**"
   ]
  },
  {
   "cell_type": "code",
   "execution_count": 24,
   "metadata": {},
   "outputs": [
    {
     "name": "stdout",
     "output_type": "stream",
     "text": [
      "Fitting 5 folds for each of 20 candidates, totalling 100 fits\n"
     ]
    },
    {
     "name": "stderr",
     "output_type": "stream",
     "text": [
      "c:\\Users\\FRANK\\anaconda3\\envs\\learn-env\\lib\\site-packages\\xgboost\\data.py:173: FutureWarning: pandas.Int64Index is deprecated and will be removed from pandas in a future version. Use pandas.Index with the appropriate dtype instead.\n",
      "  from pandas import MultiIndex, Int64Index\n"
     ]
    },
    {
     "name": "stdout",
     "output_type": "stream",
     "text": [
      "Best XGB Parameters: {'subsample': 1.0, 'n_estimators': 100, 'max_depth': 3, 'learning_rate': 0.2, 'lambda': 0, 'colsample_bytree': 1.0}\n",
      "Best XGB AUC-ROC: 0.9998804721350666\n"
     ]
    }
   ],
   "source": [
    "from xgboost import XGBClassifier\n",
    "from sklearn.model_selection import RandomizedSearchCV\n",
    "\n",
    "# Define the parameter grid\n",
    "xgb_param_grid = {\n",
    "    'n_estimators': [50, 100, 200, 300], \n",
    "    'max_depth': [3, 5, 7, 10],  \n",
    "    'learning_rate': [0.01, 0.05, 0.1, 0.2],  \n",
    "    'subsample': [0.6, 0.8, 1.0],  \n",
    "    'colsample_bytree': [0.6, 0.8, 1.0],  \n",
    "    'lambda': [0, 0.1, 1, 10]  # L2 Regularization\n",
    "}\n",
    "\n",
    "# Initialize the model\n",
    "xgb_model = XGBClassifier(use_label_encoder=False, eval_metric='logloss')\n",
    "\n",
    "# Randomized search with 5-fold CV\n",
    "xgb_random_search = RandomizedSearchCV(xgb_model, xgb_param_grid, n_iter=20, cv=5, scoring='roc_auc', n_jobs=-1, verbose=2, random_state=42)\n",
    "xgb_random_search.fit(X_train, y_train)\n",
    "\n",
    "# Best parameters & score\n",
    "print(\"Best XGB Parameters:\", xgb_random_search.best_params_)\n",
    "print(\"Best XGB AUC-ROC:\", xgb_random_search.best_score_)"
   ]
  },
  {
   "cell_type": "code",
   "execution_count": 25,
   "metadata": {},
   "outputs": [
    {
     "name": "stdout",
     "output_type": "stream",
     "text": [
      "Final XGBoost Performance on Test Set:\n",
      "Accuracy: 0.9937\n",
      "F1-Score: 0.9871\n",
      "AUC-ROC: 0.9998\n"
     ]
    },
    {
     "name": "stderr",
     "output_type": "stream",
     "text": [
      "c:\\Users\\FRANK\\anaconda3\\envs\\learn-env\\lib\\site-packages\\xgboost\\data.py:173: FutureWarning: pandas.Int64Index is deprecated and will be removed from pandas in a future version. Use pandas.Index with the appropriate dtype instead.\n",
      "  from pandas import MultiIndex, Int64Index\n",
      "c:\\Users\\FRANK\\anaconda3\\envs\\learn-env\\lib\\site-packages\\xgboost\\data.py:173: FutureWarning: pandas.Int64Index is deprecated and will be removed from pandas in a future version. Use pandas.Index with the appropriate dtype instead.\n",
      "  from pandas import MultiIndex, Int64Index\n"
     ]
    }
   ],
   "source": [
    "# Train XGBoost with best parameters\n",
    "best_xgb = XGBClassifier(\n",
    "    max_depth=3,\n",
    "    learning_rate=0.2,\n",
    "    n_estimators=100,\n",
    "    subsample=1.0,\n",
    "    colsample_bytree=1.0,\n",
    "    reg_lambda=0,  # 'lambda' in XGBoost API\n",
    "    use_label_encoder=False,\n",
    "    eval_metric='logloss',\n",
    "    random_state=42\n",
    ")\n",
    "\n",
    "best_xgb.fit(X_train, y_train)\n",
    "\n",
    "# Predictions\n",
    "y_pred_xgb = best_xgb.predict(X_test)\n",
    "y_pred_proba_xgb = best_xgb.predict_proba(X_test)[:, 1]\n",
    "\n",
    "# Evaluate performance\n",
    "xgb_test_acc = accuracy_score(y_test, y_pred_xgb)\n",
    "xgb_test_f1 = f1_score(y_test, y_pred_xgb)\n",
    "xgb_test_auc = roc_auc_score(y_test, y_pred_proba_xgb)\n",
    "\n",
    "# Print test results\n",
    "print(\"Final XGBoost Performance on Test Set:\")\n",
    "print(f\"Accuracy: {xgb_test_acc:.4f}\")\n",
    "print(f\"F1-Score: {xgb_test_f1:.4f}\")\n",
    "print(f\"AUC-ROC: {xgb_test_auc:.4f}\")"
   ]
  },
  {
   "cell_type": "markdown",
   "metadata": {},
   "source": [
    "- Both models have identical Accuracy (0/9937) and F1-Score (0.9871).\n",
    "- Random Forest AUC-ROC = 1.0 on Test Set; suggesting possible overfitting because perfect AUC-ROC on test data is extremely rare.\n",
    "- XGBoost has slightly lower test AUC-ROC (0.9998) but generalizes slightly better with minimal train-test gap\n",
    "- Random Forest might be slighly prone to memorizing the data, making XGBoost a safer bet for real-world deployment, in addition to being faster overall and efficient for larger datasets."
   ]
  },
  {
   "cell_type": "markdown",
   "metadata": {},
   "source": [
    "## Saving & Model Deployment\n",
    "**Save Model**"
   ]
  },
  {
   "cell_type": "code",
   "execution_count": 26,
   "metadata": {},
   "outputs": [
    {
     "name": "stdout",
     "output_type": "stream",
     "text": [
      "Model saved successfully!\n"
     ]
    }
   ],
   "source": [
    "import joblib\n",
    "\n",
    "# Save the trained XGBoost model\n",
    "joblib.dump(best_xgb, \"xgboost_student_risk_model.pkl\")\n",
    "\n",
    "print(\"Model saved successfully!\")"
   ]
  },
  {
   "cell_type": "markdown",
   "metadata": {},
   "source": [
    "**Model Testing**"
   ]
  },
  {
   "cell_type": "code",
   "execution_count": 27,
   "metadata": {},
   "outputs": [
    {
     "name": "stdout",
     "output_type": "stream",
     "text": [
      "Loaded Model Accuracy: 0.9937369519832986\n"
     ]
    },
    {
     "name": "stderr",
     "output_type": "stream",
     "text": [
      "c:\\Users\\FRANK\\anaconda3\\envs\\learn-env\\lib\\site-packages\\xgboost\\data.py:173: FutureWarning: pandas.Int64Index is deprecated and will be removed from pandas in a future version. Use pandas.Index with the appropriate dtype instead.\n",
      "  from pandas import MultiIndex, Int64Index\n"
     ]
    }
   ],
   "source": [
    "# Load the saved model\n",
    "loaded_model = joblib.load(\"xgboost_student_risk_model.pkl\")\n",
    "\n",
    "# Make predictions on the test set\n",
    "y_pred = loaded_model.predict(X_test)\n",
    "\n",
    "# Check accuracy\n",
    "from sklearn.metrics import accuracy_score\n",
    "print(\"Loaded Model Accuracy:\", accuracy_score(y_test, y_pred))"
   ]
  },
  {
   "cell_type": "markdown",
   "metadata": {},
   "source": [
    "The accuracy matches earlier results, we're good to go"
   ]
  },
  {
   "cell_type": "markdown",
   "metadata": {},
   "source": [
    "**Deployment**"
   ]
  },
  {
   "cell_type": "code",
   "execution_count": 28,
   "metadata": {},
   "outputs": [
    {
     "name": "stdout",
     "output_type": "stream",
     "text": [
      "b'\\x80\\x04\\x95\\x0e\\x03\\x00\\x00\\x00\\x00\\x00\\x00\\x8c\\x0fxgboost.sklearn\\x94\\x8c\\rXGBClassifier\\x94\\x93\\x94)\\x81\\x94}\\x94(\\x8c\\x0cn_estimators\\x94Kd\\x8c\\tobjective\\x94\\x8c\\x0fbinary:logistic\\x94'\n"
     ]
    }
   ],
   "source": [
    "with open(\"xgboost_student_risk_model.pkl\", \"rb\") as file:\n",
    "    content = file.read()\n",
    "print(content[:100])  # Print first 100 bytes"
   ]
  }
 ],
 "metadata": {
  "kernelspec": {
   "display_name": "learn-env",
   "language": "python",
   "name": "python3"
  },
  "language_info": {
   "codemirror_mode": {
    "name": "ipython",
    "version": 3
   },
   "file_extension": ".py",
   "mimetype": "text/x-python",
   "name": "python",
   "nbconvert_exporter": "python",
   "pygments_lexer": "ipython3",
   "version": "3.8.5"
  }
 },
 "nbformat": 4,
 "nbformat_minor": 2
}
