{
 "cells": [
  {
   "cell_type": "markdown",
   "metadata": {},
   "source": [
    "# 🧠 Feature Engineering Notebook. \n",
    "\n",
    "**Notebook Objective:** \n",
    "\n",
    "In this notebook, we engineer new features and transform existing ones to prepare the data for modeling. This includes one-hot encoding, scaling, and combining binary and ordinal features. The final output is a clean, `model-ready` dataset saved for future use."
   ]
  },
  {
   "cell_type": "code",
   "execution_count": 6,
   "metadata": {},
   "outputs": [],
   "source": [
    "# Load packages\n",
    "import pandas as pd\n",
    "import numpy as np\n",
    "import matplotlib.pyplot as plt\n",
    "import seaborn as sns\n",
    "\n",
    "from sklearn.preprocessing import OneHotEncoder, StandardScaler\n",
    "from sklearn.compose import ColumnTransformer\n",
    "from sklearn.pipeline import Pipeline"
   ]
  },
  {
   "cell_type": "code",
   "execution_count": 7,
   "metadata": {},
   "outputs": [
    {
     "name": "stdout",
     "output_type": "stream",
     "text": [
      "✅ Data loaded successfully! Shape: (2392, 15)\n"
     ]
    },
    {
     "data": {
      "application/vnd.microsoft.datawrangler.viewer.v0+json": {
       "columns": [
        {
         "name": "index",
         "rawType": "int64",
         "type": "integer"
        },
        {
         "name": "studentid",
         "rawType": "int64",
         "type": "integer"
        },
        {
         "name": "age",
         "rawType": "int64",
         "type": "integer"
        },
        {
         "name": "gender",
         "rawType": "int64",
         "type": "integer"
        },
        {
         "name": "ethnicity",
         "rawType": "int64",
         "type": "integer"
        },
        {
         "name": "parentaleducation",
         "rawType": "int64",
         "type": "integer"
        },
        {
         "name": "studytimeweekly",
         "rawType": "float64",
         "type": "float"
        },
        {
         "name": "absences",
         "rawType": "int64",
         "type": "integer"
        },
        {
         "name": "tutoring",
         "rawType": "int64",
         "type": "integer"
        },
        {
         "name": "parentalsupport",
         "rawType": "int64",
         "type": "integer"
        },
        {
         "name": "extracurricular",
         "rawType": "int64",
         "type": "integer"
        },
        {
         "name": "sports",
         "rawType": "int64",
         "type": "integer"
        },
        {
         "name": "music",
         "rawType": "int64",
         "type": "integer"
        },
        {
         "name": "volunteering",
         "rawType": "int64",
         "type": "integer"
        },
        {
         "name": "gpa",
         "rawType": "float64",
         "type": "float"
        },
        {
         "name": "gradeclass",
         "rawType": "float64",
         "type": "float"
        }
       ],
       "conversionMethod": "pd.DataFrame",
       "ref": "2fdcdd69-54e2-49fb-aeb3-ced4f8b1c500",
       "rows": [
        [
         "0",
         "1001",
         "17",
         "1",
         "0",
         "2",
         "19.83372280785472",
         "7",
         "1",
         "2",
         "0",
         "0",
         "1",
         "0",
         "2.929195591667681",
         "2.0"
        ],
        [
         "1",
         "1002",
         "18",
         "0",
         "0",
         "1",
         "15.40875605584674",
         "0",
         "0",
         "1",
         "0",
         "0",
         "0",
         "0",
         "3.042914833436377",
         "1.0"
        ],
        [
         "2",
         "1003",
         "15",
         "0",
         "2",
         "3",
         "4.21056976881226",
         "26",
         "0",
         "2",
         "0",
         "0",
         "0",
         "0",
         "0.1126022544661815",
         "4.0"
        ],
        [
         "3",
         "1004",
         "17",
         "1",
         "0",
         "3",
         "10.028829473958217",
         "14",
         "0",
         "3",
         "1",
         "0",
         "0",
         "0",
         "2.0542181397029484",
         "3.0"
        ],
        [
         "4",
         "1005",
         "17",
         "1",
         "0",
         "2",
         "4.6724952729713305",
         "17",
         "1",
         "3",
         "0",
         "0",
         "0",
         "0",
         "1.2880611817953875",
         "4.0"
        ]
       ],
       "shape": {
        "columns": 15,
        "rows": 5
       }
      },
      "text/html": [
       "<div>\n",
       "<style scoped>\n",
       "    .dataframe tbody tr th:only-of-type {\n",
       "        vertical-align: middle;\n",
       "    }\n",
       "\n",
       "    .dataframe tbody tr th {\n",
       "        vertical-align: top;\n",
       "    }\n",
       "\n",
       "    .dataframe thead th {\n",
       "        text-align: right;\n",
       "    }\n",
       "</style>\n",
       "<table border=\"1\" class=\"dataframe\">\n",
       "  <thead>\n",
       "    <tr style=\"text-align: right;\">\n",
       "      <th></th>\n",
       "      <th>studentid</th>\n",
       "      <th>age</th>\n",
       "      <th>gender</th>\n",
       "      <th>ethnicity</th>\n",
       "      <th>parentaleducation</th>\n",
       "      <th>studytimeweekly</th>\n",
       "      <th>absences</th>\n",
       "      <th>tutoring</th>\n",
       "      <th>parentalsupport</th>\n",
       "      <th>extracurricular</th>\n",
       "      <th>sports</th>\n",
       "      <th>music</th>\n",
       "      <th>volunteering</th>\n",
       "      <th>gpa</th>\n",
       "      <th>gradeclass</th>\n",
       "    </tr>\n",
       "  </thead>\n",
       "  <tbody>\n",
       "    <tr>\n",
       "      <th>0</th>\n",
       "      <td>1001</td>\n",
       "      <td>17</td>\n",
       "      <td>1</td>\n",
       "      <td>0</td>\n",
       "      <td>2</td>\n",
       "      <td>19.833723</td>\n",
       "      <td>7</td>\n",
       "      <td>1</td>\n",
       "      <td>2</td>\n",
       "      <td>0</td>\n",
       "      <td>0</td>\n",
       "      <td>1</td>\n",
       "      <td>0</td>\n",
       "      <td>2.929196</td>\n",
       "      <td>2.0</td>\n",
       "    </tr>\n",
       "    <tr>\n",
       "      <th>1</th>\n",
       "      <td>1002</td>\n",
       "      <td>18</td>\n",
       "      <td>0</td>\n",
       "      <td>0</td>\n",
       "      <td>1</td>\n",
       "      <td>15.408756</td>\n",
       "      <td>0</td>\n",
       "      <td>0</td>\n",
       "      <td>1</td>\n",
       "      <td>0</td>\n",
       "      <td>0</td>\n",
       "      <td>0</td>\n",
       "      <td>0</td>\n",
       "      <td>3.042915</td>\n",
       "      <td>1.0</td>\n",
       "    </tr>\n",
       "    <tr>\n",
       "      <th>2</th>\n",
       "      <td>1003</td>\n",
       "      <td>15</td>\n",
       "      <td>0</td>\n",
       "      <td>2</td>\n",
       "      <td>3</td>\n",
       "      <td>4.210570</td>\n",
       "      <td>26</td>\n",
       "      <td>0</td>\n",
       "      <td>2</td>\n",
       "      <td>0</td>\n",
       "      <td>0</td>\n",
       "      <td>0</td>\n",
       "      <td>0</td>\n",
       "      <td>0.112602</td>\n",
       "      <td>4.0</td>\n",
       "    </tr>\n",
       "    <tr>\n",
       "      <th>3</th>\n",
       "      <td>1004</td>\n",
       "      <td>17</td>\n",
       "      <td>1</td>\n",
       "      <td>0</td>\n",
       "      <td>3</td>\n",
       "      <td>10.028829</td>\n",
       "      <td>14</td>\n",
       "      <td>0</td>\n",
       "      <td>3</td>\n",
       "      <td>1</td>\n",
       "      <td>0</td>\n",
       "      <td>0</td>\n",
       "      <td>0</td>\n",
       "      <td>2.054218</td>\n",
       "      <td>3.0</td>\n",
       "    </tr>\n",
       "    <tr>\n",
       "      <th>4</th>\n",
       "      <td>1005</td>\n",
       "      <td>17</td>\n",
       "      <td>1</td>\n",
       "      <td>0</td>\n",
       "      <td>2</td>\n",
       "      <td>4.672495</td>\n",
       "      <td>17</td>\n",
       "      <td>1</td>\n",
       "      <td>3</td>\n",
       "      <td>0</td>\n",
       "      <td>0</td>\n",
       "      <td>0</td>\n",
       "      <td>0</td>\n",
       "      <td>1.288061</td>\n",
       "      <td>4.0</td>\n",
       "    </tr>\n",
       "  </tbody>\n",
       "</table>\n",
       "</div>"
      ],
      "text/plain": [
       "   studentid  age  gender  ethnicity  parentaleducation  studytimeweekly  \\\n",
       "0       1001   17       1          0                  2        19.833723   \n",
       "1       1002   18       0          0                  1        15.408756   \n",
       "2       1003   15       0          2                  3         4.210570   \n",
       "3       1004   17       1          0                  3        10.028829   \n",
       "4       1005   17       1          0                  2         4.672495   \n",
       "\n",
       "   absences  tutoring  parentalsupport  extracurricular  sports  music  \\\n",
       "0         7         1                2                0       0      1   \n",
       "1         0         0                1                0       0      0   \n",
       "2        26         0                2                0       0      0   \n",
       "3        14         0                3                1       0      0   \n",
       "4        17         1                3                0       0      0   \n",
       "\n",
       "   volunteering       gpa  gradeclass  \n",
       "0             0  2.929196         2.0  \n",
       "1             0  3.042915         1.0  \n",
       "2             0  0.112602         4.0  \n",
       "3             0  2.054218         3.0  \n",
       "4             0  1.288061         4.0  "
      ]
     },
     "execution_count": 7,
     "metadata": {},
     "output_type": "execute_result"
    }
   ],
   "source": [
    "# Load preprocessed dataset\n",
    "processed_data_path = \"../data/processed_student_data.csv\"\n",
    "df = pd.read_csv(processed_data_path)\n",
    "\n",
    "print(f\"✅ Data loaded successfully! Shape: {df.shape}\")\n",
    "df.head()"
   ]
  },
  {
   "cell_type": "markdown",
   "metadata": {},
   "source": [
    "### Dealing with Categorical Variables\n",
    "\n",
    "- Binary Categorical Variables: \n",
    "  - `Gender, Tutoring, Extracurricular, Sports, Music, Volunteering`\n",
    "    - These are already binary (0 or 1). No further encoding needed.\n",
    "### Scaling\n",
    "\n",
    "- Ordinal Variables:\n",
    "  - `ParentalSupport`:\n",
    "    - Since this has an inherent order, we can keep it as is (0 to 4). Machine learning models will handle this naturally\n",
    "- Norminal Variables:\n",
    "  - `Ethnicity, ParentalEducation`:\n",
    "    - These have no inherent order, so we'll use One-Hot Encoding to avoid assigning artificial ordinal relationships."
   ]
  },
  {
   "cell_type": "code",
   "execution_count": 9,
   "metadata": {},
   "outputs": [
    {
     "data": {
      "text/plain": [
       "Index(['studentid', 'age', 'gender', 'ethnicity', 'parentaleducation',\n",
       "       'studytimeweekly', 'absences', 'tutoring', 'parentalsupport',\n",
       "       'extracurricular', 'sports', 'music', 'volunteering', 'gpa',\n",
       "       'gradeclass'],\n",
       "      dtype='object')"
      ]
     },
     "execution_count": 9,
     "metadata": {},
     "output_type": "execute_result"
    }
   ],
   "source": [
    "df.columns"
   ]
  },
  {
   "cell_type": "code",
   "execution_count": 17,
   "metadata": {},
   "outputs": [],
   "source": [
    "# Features\n",
    "binary_features = ['gender', 'tutoring', 'extracurricular', 'sports', 'music', 'volunteering']\n",
    "ordinal_features = ['parentalsupport', 'parentaleducation']\n",
    "nominal_features = ['ethnicity']\n",
    "numerical_features = ['studytimeweekly', 'absences', 'gpa', 'age']"
   ]
  },
  {
   "cell_type": "code",
   "execution_count": 18,
   "metadata": {},
   "outputs": [
    {
     "name": "stdout",
     "output_type": "stream",
     "text": [
      "✅ Features and targets separated!\n",
      "X shape: (2392, 13), y shape: (2392, 2)\n"
     ]
    }
   ],
   "source": [
    "features = binary_features + ordinal_features + nominal_features + numerical_features\n",
    "target_cols = ['gpa', 'gradeclass']  # Keep all useful targets\n",
    "\n",
    "X = df[features]\n",
    "y = df[target_cols]\n",
    "print(f\"✅ Features and targets separated!\")\n",
    "print(f\"X shape: {X.shape}, y shape: {y.shape}\")"
   ]
  },
  {
   "cell_type": "code",
   "execution_count": 19,
   "metadata": {},
   "outputs": [],
   "source": [
    "# Apply Transformations\n",
    "\n",
    "preprocessor = ColumnTransformer(\n",
    "    transformers=[\n",
    "        ('onehot', OneHotEncoder(drop='first'), nominal_features),\n",
    "        ('scale', StandardScaler(), numerical_features)\n",
    "    ],\n",
    "    remainder='passthrough'\n",
    ")\n",
    "\n",
    "# Fit and transform full X\n",
    "X_transformed = preprocessor.fit_transform(X)\n",
    "\n",
    "# Convert to DataFrame with correct column names\n",
    "\n",
    "# Get column names after one-hot and scaling\n",
    "encoded_columns = preprocessor.named_transformers_['onehot'].get_feature_names_out(nominal_features)\n",
    "scaled_columns = numerical_features\n",
    "remaining_columns = binary_features + ordinal_features\n",
    "\n",
    "all_columns = list(encoded_columns) + scaled_columns + remaining_columns\n",
    "X_transformed_df = pd.DataFrame(X_transformed, columns=all_columns)"
   ]
  },
  {
   "cell_type": "code",
   "execution_count": 22,
   "metadata": {},
   "outputs": [
    {
     "data": {
      "application/vnd.microsoft.datawrangler.viewer.v0+json": {
       "columns": [
        {
         "name": "index",
         "rawType": "int64",
         "type": "integer"
        },
        {
         "name": "ethnicity_1",
         "rawType": "float64",
         "type": "float"
        },
        {
         "name": "ethnicity_2",
         "rawType": "float64",
         "type": "float"
        },
        {
         "name": "ethnicity_3",
         "rawType": "float64",
         "type": "float"
        },
        {
         "name": "studytimeweekly",
         "rawType": "float64",
         "type": "float"
        },
        {
         "name": "absences",
         "rawType": "float64",
         "type": "float"
        },
        {
         "name": "gpa",
         "rawType": "float64",
         "type": "float"
        },
        {
         "name": "age",
         "rawType": "float64",
         "type": "float"
        },
        {
         "name": "gender",
         "rawType": "float64",
         "type": "float"
        },
        {
         "name": "tutoring",
         "rawType": "float64",
         "type": "float"
        },
        {
         "name": "extracurricular",
         "rawType": "float64",
         "type": "float"
        },
        {
         "name": "sports",
         "rawType": "float64",
         "type": "float"
        },
        {
         "name": "music",
         "rawType": "float64",
         "type": "float"
        },
        {
         "name": "volunteering",
         "rawType": "float64",
         "type": "float"
        },
        {
         "name": "parentalsupport",
         "rawType": "float64",
         "type": "float"
        },
        {
         "name": "parentaleducation",
         "rawType": "float64",
         "type": "float"
        },
        {
         "name": "gpa",
         "rawType": "float64",
         "type": "float"
        },
        {
         "name": "gradeclass",
         "rawType": "float64",
         "type": "float"
        }
       ],
       "conversionMethod": "pd.DataFrame",
       "ref": "32981e04-176c-4f02-a3af-fc08073337d9",
       "rows": [
        [
         "0",
         "0.0",
         "0.0",
         "0.0",
         "1.7803355189521388",
         "-0.8908223715622926",
         "1.1180863116664626",
         "0.4729190115431414",
         "1.0",
         "1.0",
         "0.0",
         "0.0",
         "1.0",
         "0.0",
         "2.0",
         "2.0",
         "2.929195591667681",
         "2.0"
        ],
        [
         "1",
         "0.0",
         "0.0",
         "0.0",
         "0.9973762482121091",
         "-1.7176935833500317",
         "1.2423744574038993",
         "1.362944405415047",
         "0.0",
         "0.0",
         "0.0",
         "0.0",
         "0.0",
         "0.0",
         "1.0",
         "1.0",
         "3.042914833436377",
         "1.0"
        ],
        [
         "2",
         "0.0",
         "1.0",
         "0.0",
         "-0.9840451409833825",
         "1.3535423461472853",
         "-1.9602771889382216",
         "-1.30713177620067",
         "0.0",
         "0.0",
         "0.0",
         "0.0",
         "0.0",
         "0.0",
         "2.0",
         "3.0",
         "0.1126022544661815",
         "4.0"
        ],
        [
         "3",
         "0.0",
         "0.0",
         "0.0",
         "0.04544516505111627",
         "-0.06395115977455339",
         "0.16178970455436958",
         "0.4729190115431414",
         "1.0",
         "0.0",
         "1.0",
         "0.0",
         "0.0",
         "0.0",
         "3.0",
         "3.0",
         "2.0542181397029484",
         "3.0"
        ],
        [
         "4",
         "0.0",
         "0.0",
         "0.0",
         "-0.9023114520899039",
         "0.2904222167059063",
         "-0.6755727871499934",
         "0.4729190115431414",
         "1.0",
         "1.0",
         "0.0",
         "0.0",
         "0.0",
         "0.0",
         "3.0",
         "2.0",
         "1.2880611817953875",
         "4.0"
        ]
       ],
       "shape": {
        "columns": 17,
        "rows": 5
       }
      },
      "text/html": [
       "<div>\n",
       "<style scoped>\n",
       "    .dataframe tbody tr th:only-of-type {\n",
       "        vertical-align: middle;\n",
       "    }\n",
       "\n",
       "    .dataframe tbody tr th {\n",
       "        vertical-align: top;\n",
       "    }\n",
       "\n",
       "    .dataframe thead th {\n",
       "        text-align: right;\n",
       "    }\n",
       "</style>\n",
       "<table border=\"1\" class=\"dataframe\">\n",
       "  <thead>\n",
       "    <tr style=\"text-align: right;\">\n",
       "      <th></th>\n",
       "      <th>ethnicity_1</th>\n",
       "      <th>ethnicity_2</th>\n",
       "      <th>ethnicity_3</th>\n",
       "      <th>studytimeweekly</th>\n",
       "      <th>absences</th>\n",
       "      <th>gpa</th>\n",
       "      <th>age</th>\n",
       "      <th>gender</th>\n",
       "      <th>tutoring</th>\n",
       "      <th>extracurricular</th>\n",
       "      <th>sports</th>\n",
       "      <th>music</th>\n",
       "      <th>volunteering</th>\n",
       "      <th>parentalsupport</th>\n",
       "      <th>parentaleducation</th>\n",
       "      <th>gpa</th>\n",
       "      <th>gradeclass</th>\n",
       "    </tr>\n",
       "  </thead>\n",
       "  <tbody>\n",
       "    <tr>\n",
       "      <th>0</th>\n",
       "      <td>0.0</td>\n",
       "      <td>0.0</td>\n",
       "      <td>0.0</td>\n",
       "      <td>1.780336</td>\n",
       "      <td>-0.890822</td>\n",
       "      <td>1.118086</td>\n",
       "      <td>0.472919</td>\n",
       "      <td>1.0</td>\n",
       "      <td>1.0</td>\n",
       "      <td>0.0</td>\n",
       "      <td>0.0</td>\n",
       "      <td>1.0</td>\n",
       "      <td>0.0</td>\n",
       "      <td>2.0</td>\n",
       "      <td>2.0</td>\n",
       "      <td>2.929196</td>\n",
       "      <td>2.0</td>\n",
       "    </tr>\n",
       "    <tr>\n",
       "      <th>1</th>\n",
       "      <td>0.0</td>\n",
       "      <td>0.0</td>\n",
       "      <td>0.0</td>\n",
       "      <td>0.997376</td>\n",
       "      <td>-1.717694</td>\n",
       "      <td>1.242374</td>\n",
       "      <td>1.362944</td>\n",
       "      <td>0.0</td>\n",
       "      <td>0.0</td>\n",
       "      <td>0.0</td>\n",
       "      <td>0.0</td>\n",
       "      <td>0.0</td>\n",
       "      <td>0.0</td>\n",
       "      <td>1.0</td>\n",
       "      <td>1.0</td>\n",
       "      <td>3.042915</td>\n",
       "      <td>1.0</td>\n",
       "    </tr>\n",
       "    <tr>\n",
       "      <th>2</th>\n",
       "      <td>0.0</td>\n",
       "      <td>1.0</td>\n",
       "      <td>0.0</td>\n",
       "      <td>-0.984045</td>\n",
       "      <td>1.353542</td>\n",
       "      <td>-1.960277</td>\n",
       "      <td>-1.307132</td>\n",
       "      <td>0.0</td>\n",
       "      <td>0.0</td>\n",
       "      <td>0.0</td>\n",
       "      <td>0.0</td>\n",
       "      <td>0.0</td>\n",
       "      <td>0.0</td>\n",
       "      <td>2.0</td>\n",
       "      <td>3.0</td>\n",
       "      <td>0.112602</td>\n",
       "      <td>4.0</td>\n",
       "    </tr>\n",
       "    <tr>\n",
       "      <th>3</th>\n",
       "      <td>0.0</td>\n",
       "      <td>0.0</td>\n",
       "      <td>0.0</td>\n",
       "      <td>0.045445</td>\n",
       "      <td>-0.063951</td>\n",
       "      <td>0.161790</td>\n",
       "      <td>0.472919</td>\n",
       "      <td>1.0</td>\n",
       "      <td>0.0</td>\n",
       "      <td>1.0</td>\n",
       "      <td>0.0</td>\n",
       "      <td>0.0</td>\n",
       "      <td>0.0</td>\n",
       "      <td>3.0</td>\n",
       "      <td>3.0</td>\n",
       "      <td>2.054218</td>\n",
       "      <td>3.0</td>\n",
       "    </tr>\n",
       "    <tr>\n",
       "      <th>4</th>\n",
       "      <td>0.0</td>\n",
       "      <td>0.0</td>\n",
       "      <td>0.0</td>\n",
       "      <td>-0.902311</td>\n",
       "      <td>0.290422</td>\n",
       "      <td>-0.675573</td>\n",
       "      <td>0.472919</td>\n",
       "      <td>1.0</td>\n",
       "      <td>1.0</td>\n",
       "      <td>0.0</td>\n",
       "      <td>0.0</td>\n",
       "      <td>0.0</td>\n",
       "      <td>0.0</td>\n",
       "      <td>3.0</td>\n",
       "      <td>2.0</td>\n",
       "      <td>1.288061</td>\n",
       "      <td>4.0</td>\n",
       "    </tr>\n",
       "  </tbody>\n",
       "</table>\n",
       "</div>"
      ],
      "text/plain": [
       "   ethnicity_1  ethnicity_2  ethnicity_3  studytimeweekly  absences       gpa  \\\n",
       "0          0.0          0.0          0.0         1.780336 -0.890822  1.118086   \n",
       "1          0.0          0.0          0.0         0.997376 -1.717694  1.242374   \n",
       "2          0.0          1.0          0.0        -0.984045  1.353542 -1.960277   \n",
       "3          0.0          0.0          0.0         0.045445 -0.063951  0.161790   \n",
       "4          0.0          0.0          0.0        -0.902311  0.290422 -0.675573   \n",
       "\n",
       "        age  gender  tutoring  extracurricular  sports  music  volunteering  \\\n",
       "0  0.472919     1.0       1.0              0.0     0.0    1.0           0.0   \n",
       "1  1.362944     0.0       0.0              0.0     0.0    0.0           0.0   \n",
       "2 -1.307132     0.0       0.0              0.0     0.0    0.0           0.0   \n",
       "3  0.472919     1.0       0.0              1.0     0.0    0.0           0.0   \n",
       "4  0.472919     1.0       1.0              0.0     0.0    0.0           0.0   \n",
       "\n",
       "   parentalsupport  parentaleducation       gpa  gradeclass  \n",
       "0              2.0                2.0  2.929196         2.0  \n",
       "1              1.0                1.0  3.042915         1.0  \n",
       "2              2.0                3.0  0.112602         4.0  \n",
       "3              3.0                3.0  2.054218         3.0  \n",
       "4              3.0                2.0  1.288061         4.0  "
      ]
     },
     "execution_count": 22,
     "metadata": {},
     "output_type": "execute_result"
    }
   ],
   "source": [
    "# Combine with target columns\n",
    "final_df = pd.concat([X_transformed_df, y.reset_index(drop=True)], axis=1)\n",
    "# Check the final DataFrame\n",
    "final_df.head()"
   ]
  },
  {
   "cell_type": "code",
   "execution_count": 23,
   "metadata": {},
   "outputs": [
    {
     "name": "stdout",
     "output_type": "stream",
     "text": [
      "✅ Feature-engineered data saved: ../data/feature_engineered_student_data.csv\n"
     ]
    }
   ],
   "source": [
    "##### Feature Engineering #####\n",
    "\n",
    "feature_engineered_data_path = \"../data/feature_engineered_student_data.csv\"\n",
    "final_df.to_csv(feature_engineered_data_path, index=False)\n",
    "\n",
    "print(f\"✅ Feature-engineered data saved: {feature_engineered_data_path}\")\n"
   ]
  }
 ],
 "metadata": {
  "kernelspec": {
   "display_name": "learn-env",
   "language": "python",
   "name": "python3"
  },
  "language_info": {
   "codemirror_mode": {
    "name": "ipython",
    "version": 3
   },
   "file_extension": ".py",
   "mimetype": "text/x-python",
   "name": "python",
   "nbconvert_exporter": "python",
   "pygments_lexer": "ipython3",
   "version": "3.8.5"
  }
 },
 "nbformat": 4,
 "nbformat_minor": 2
}
